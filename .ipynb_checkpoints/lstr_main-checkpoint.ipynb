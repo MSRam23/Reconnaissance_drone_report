{
 "cells": [
  {
   "cell_type": "code",
   "execution_count": 3,
   "id": "1c561100-dc20-4951-8e74-f60dafe02462",
   "metadata": {},
   "outputs": [
    {
     "name": "stderr",
     "output_type": "stream",
     "text": [
      "Loading checkpoint shards: 100%|█████████████████████████████████████████████████████████| 2/2 [00:13<00:00,  6.69s/it]\n"
     ]
    }
   ],
   "source": [
    "from transformers import Qwen2VLForConditionalGeneration, AutoTokenizer, AutoProcessor\n",
    "from qwen_vl_utils import process_vision_info\n",
    "import torch\n",
    "torch.cuda.empty_cache()\n",
    "model_name = \"Qwen/Qwen2-VL-2B-Instruct\"\n",
    "model = Qwen2VLForConditionalGeneration.from_pretrained(\n",
    "    model_name,\n",
    "    torch_dtype=torch.bfloat16, \n",
    "    attn_implementation=\"eager\",  \n",
    "    device_map={\"\": \"cuda\"}\n",
    ")\n",
    "processor = AutoProcessor.from_pretrained(model_name,use_fast=True)"
   ]
  },
  {
   "cell_type": "code",
   "execution_count": 4,
   "id": "f2fc2340-9b78-4eda-91e4-2b0a96b9c5cd",
   "metadata": {},
   "outputs": [
    {
     "ename": "SyntaxError",
     "evalue": "invalid syntax (722111274.py, line 8)",
     "output_type": "error",
     "traceback": [
      "\u001b[1;36m  Cell \u001b[1;32mIn[4], line 8\u001b[1;36m\u001b[0m\n\u001b[1;33m    \"max_pixels\": 360 * 420,\u001b[0m\n\u001b[1;37m                ^\u001b[0m\n\u001b[1;31mSyntaxError\u001b[0m\u001b[1;31m:\u001b[0m invalid syntax\n"
     ]
    }
   ],
   "source": [
    "messages = [\n",
    "    {\n",
    "        \"role\": \"user\",\n",
    "        \"content\": [\n",
    "            {\n",
    "                \"type\": \"video\",\n",
    "                \"image\": \"C:/AI/Github/Reconnaissance_drone_report/Data/Images/earthquake/download1.jpg\",\n",
    "                \"max_pixels\": 360 * 420,\n",
    "                \"fps\": 1.0,\n",
    "            },\n",
    "            {\"type\": \"text\", \"text\": \"Consider yourself as a airforce pilot who is operating a drone at this moment, explain this event.\"},\n",
    "        ],\n",
    "    }\n",
    "]"
   ]
  },
  {
   "cell_type": "code",
   "execution_count": null,
   "id": "ba29b48c-200b-4cd6-b48d-90ecc241f986",
   "metadata": {},
   "outputs": [],
   "source": [
    "messages"
   ]
  },
  {
   "cell_type": "code",
   "execution_count": null,
   "id": "6b604151-af0e-4c49-816e-fd576a0f0dc4",
   "metadata": {
    "scrolled": true
   },
   "outputs": [],
   "source": [
    "text = processor.apply_chat_template(\n",
    "    messages, tokenize=False, add_generation_prompt=True\n",
    ")\n",
    "image_inputs, video_inputs = process_vision_info(messages)\n",
    "inputs = processor(\n",
    "    text=[text],\n",
    "    images=image_inputs,\n",
    "    videos=video_inputs,\n",
    "    padding=True,\n",
    "    return_tensors=\"pt\",\n",
    ")\n",
    "inputs = inputs.to(\"cuda\")\n",
    "generated_ids = model.generate(**inputs, max_new_tokens=512)\n",
    "generated_ids_trimmed = [\n",
    "    out_ids[len(in_ids) :] for in_ids, out_ids in zip(inputs.input_ids, generated_ids)\n",
    "]\n",
    "output_text = processor.batch_decode(\n",
    "    generated_ids_trimmed, skip_special_tokens=True, clean_up_tokenization_spaces=False\n",
    ")\n",
    "print(\"\".join(output_text))"
   ]
  },
  {
   "cell_type": "code",
   "execution_count": null,
   "id": "519927e5-8498-4330-9960-d823fad41e3f",
   "metadata": {},
   "outputs": [],
   "source": [
    "print(\"\".join(output_text))"
   ]
  },
  {
   "cell_type": "code",
   "execution_count": null,
   "id": "6a928b6a-900f-4f0b-8900-1b45ffb595d1",
   "metadata": {},
   "outputs": [],
   "source": [
    "torch.cuda.empty_cache()"
   ]
  },
  {
   "cell_type": "code",
   "execution_count": 6,
   "id": "3deb7b79-7d75-425f-b95f-ce810b457bea",
   "metadata": {},
   "outputs": [
    {
     "name": "stdout",
     "output_type": "stream",
     "text": [
      "Collecting numpy\n",
      "  Downloading numpy-2.2.4-cp310-cp310-win_amd64.whl (12.9 MB)\n",
      "                                              0.0/12.9 MB ? eta -:--:--\n",
      "                                              0.1/12.9 MB 1.7 MB/s eta 0:00:08\n",
      "                                              0.2/12.9 MB 1.8 MB/s eta 0:00:07\n",
      "                                              0.3/12.9 MB 2.4 MB/s eta 0:00:06\n",
      "     --                                       0.7/12.9 MB 3.8 MB/s eta 0:00:04\n",
      "     ---                                      1.1/12.9 MB 5.1 MB/s eta 0:00:03\n",
      "     -----                                    1.8/12.9 MB 6.7 MB/s eta 0:00:02\n",
      "     -------                                  2.5/12.9 MB 8.0 MB/s eta 0:00:02\n",
      "     ---------                                3.2/12.9 MB 8.9 MB/s eta 0:00:02\n",
      "     -------------                            4.3/12.9 MB 10.6 MB/s eta 0:00:01\n",
      "     -----------------                        5.6/12.9 MB 12.2 MB/s eta 0:00:01\n",
      "     -------------------                      6.5/12.9 MB 12.9 MB/s eta 0:00:01\n",
      "     ---------------------                    7.1/12.9 MB 12.9 MB/s eta 0:00:01\n",
      "     ------------------------                 7.8/12.9 MB 13.2 MB/s eta 0:00:01\n",
      "     ---------------------------              9.0/12.9 MB 14.0 MB/s eta 0:00:01\n",
      "     -------------------------------         10.5/12.9 MB 18.2 MB/s eta 0:00:01\n",
      "     -----------------------------------     11.7/12.9 MB 21.9 MB/s eta 0:00:01\n",
      "     --------------------------------------  12.8/12.9 MB 22.6 MB/s eta 0:00:01\n",
      "     --------------------------------------  12.9/12.9 MB 22.6 MB/s eta 0:00:01\n",
      "     --------------------------------------  12.9/12.9 MB 19.9 MB/s eta 0:00:01\n",
      "     --------------------------------------- 12.9/12.9 MB 17.7 MB/s eta 0:00:00\n",
      "Installing collected packages: numpy\n",
      "Successfully installed numpy-2.2.4\n"
     ]
    },
    {
     "name": "stderr",
     "output_type": "stream",
     "text": [
      "ERROR: pip's dependency resolver does not currently take into account all the packages that are installed. This behaviour is the source of the following dependency conflicts.\n",
      "ultralytics 8.3.73 requires numpy<=2.1.1,>=1.23.0, but you have numpy 2.2.4 which is incompatible.\n",
      "numba 0.56.4 requires numpy<1.24,>=1.18, but you have numpy 2.2.4 which is incompatible.\n",
      "streamlit 1.39.0 requires pillow<11,>=7.1.0, but you have pillow 11.0.0 which is incompatible.\n",
      "tensorflow-intel 2.16.1 requires numpy<2.0.0,>=1.23.5; python_version <= \"3.11\", but you have numpy 2.2.4 which is incompatible.\n",
      "\n",
      "[notice] A new release of pip is available: 23.1 -> 25.0.1\n",
      "[notice] To update, run: python.exe -m pip install --upgrade pip\n"
     ]
    }
   ],
   "source": [
    "!pip install numpy"
   ]
  },
  {
   "cell_type": "code",
   "execution_count": 2,
   "id": "4aaa2a2e-1077-4d71-8263-610125fd7a66",
   "metadata": {},
   "outputs": [
    {
     "name": "stdout",
     "output_type": "stream",
     "text": [
      "Collecting qwen_vl_utils\n",
      "  Downloading qwen_vl_utils-0.0.10-py3-none-any.whl.metadata (6.3 kB)\n",
      "Collecting av (from qwen_vl_utils)\n",
      "  Downloading av-14.3.0-cp310-cp310-win_amd64.whl.metadata (4.8 kB)\n",
      "Requirement already satisfied: packaging in c:\\users\\kmano\\miniconda3\\envs\\lstr\\lib\\site-packages (from qwen_vl_utils) (24.2)\n",
      "Requirement already satisfied: pillow in c:\\users\\kmano\\miniconda3\\envs\\lstr\\lib\\site-packages (from qwen_vl_utils) (11.0.0)\n",
      "Requirement already satisfied: requests in c:\\users\\kmano\\miniconda3\\envs\\lstr\\lib\\site-packages (from qwen_vl_utils) (2.32.3)\n",
      "Requirement already satisfied: charset-normalizer<4,>=2 in c:\\users\\kmano\\miniconda3\\envs\\lstr\\lib\\site-packages (from requests->qwen_vl_utils) (3.4.1)\n",
      "Requirement already satisfied: idna<4,>=2.5 in c:\\users\\kmano\\miniconda3\\envs\\lstr\\lib\\site-packages (from requests->qwen_vl_utils) (3.10)\n",
      "Requirement already satisfied: urllib3<3,>=1.21.1 in c:\\users\\kmano\\miniconda3\\envs\\lstr\\lib\\site-packages (from requests->qwen_vl_utils) (2.4.0)\n",
      "Requirement already satisfied: certifi>=2017.4.17 in c:\\users\\kmano\\miniconda3\\envs\\lstr\\lib\\site-packages (from requests->qwen_vl_utils) (2025.1.31)\n",
      "Downloading qwen_vl_utils-0.0.10-py3-none-any.whl (6.7 kB)\n",
      "Downloading av-14.3.0-cp310-cp310-win_amd64.whl (27.5 MB)\n",
      "   ---------------------------------------- 0.0/27.5 MB ? eta -:--:--\n",
      "   - -------------------------------------- 1.0/27.5 MB 7.2 MB/s eta 0:00:04\n",
      "   ---- ----------------------------------- 3.4/27.5 MB 9.6 MB/s eta 0:00:03\n",
      "   ------------ --------------------------- 8.7/27.5 MB 16.3 MB/s eta 0:00:02\n",
      "   --------------------- ------------------ 14.9/27.5 MB 20.0 MB/s eta 0:00:01\n",
      "   ------------------------------ --------- 21.0/27.5 MB 22.1 MB/s eta 0:00:01\n",
      "   ------------------------------------- -- 25.4/27.5 MB 22.1 MB/s eta 0:00:01\n",
      "   ---------------------------------------- 27.5/27.5 MB 21.0 MB/s eta 0:00:00\n",
      "Installing collected packages: av, qwen_vl_utils\n",
      "Successfully installed av-14.3.0 qwen_vl_utils-0.0.10\n"
     ]
    }
   ],
   "source": [
    "!pip install qwen_vl_utils"
   ]
  },
  {
   "cell_type": "code",
   "execution_count": null,
   "id": "8b2b2efd-8ab2-4d67-9b9e-96a9cbc7e5e1",
   "metadata": {},
   "outputs": [],
   "source": []
  }
 ],
 "metadata": {
  "kernelspec": {
   "display_name": "Python 3 (ipykernel)",
   "language": "python",
   "name": "python3"
  },
  "language_info": {
   "codemirror_mode": {
    "name": "ipython",
    "version": 3
   },
   "file_extension": ".py",
   "mimetype": "text/x-python",
   "name": "python",
   "nbconvert_exporter": "python",
   "pygments_lexer": "ipython3",
   "version": "3.10.16"
  }
 },
 "nbformat": 4,
 "nbformat_minor": 5
}
