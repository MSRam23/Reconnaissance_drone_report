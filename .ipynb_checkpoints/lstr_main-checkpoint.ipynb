{
 "cells": [
  {
   "cell_type": "code",
   "execution_count": null,
   "id": "1c561100-dc20-4951-8e74-f60dafe02462",
   "metadata": {},
   "outputs": [
    {
     "name": "stderr",
     "output_type": "stream",
     "text": [
      "C:\\Users\\kmano\\miniconda3\\envs\\lstr\\Lib\\site-packages\\requests\\__init__.py:86: RequestsDependencyWarning: Unable to find acceptable character detection dependency (chardet or charset_normalizer).\n",
      "  warnings.warn(\n"
     ]
    },
    {
     "data": {
      "application/vnd.jupyter.widget-view+json": {
       "model_id": "8fc4c0d66f8a4ed08b3d4c2cf5869e17",
       "version_major": 2,
       "version_minor": 0
      },
      "text/plain": [
       "Loading checkpoint shards:   0%|          | 0/2 [00:00<?, ?it/s]"
      ]
     },
     "metadata": {},
     "output_type": "display_data"
    }
   ],
   "source": [
    "from transformers import Qwen2VLForConditionalGeneration, AutoTokenizer, AutoProcessor\n",
    "from qwen_vl_utils import process_vision_info\n",
    "import torch\n",
    "torch.cuda.empty_cache()\n",
    "model_name = \"Qwen/Qwen2-VL-2B-Instruct\"\n",
    "model = Qwen2VLForConditionalGeneration.from_pretrained(\n",
    "    model_name,\n",
    "    torch_dtype=torch.bfloat16, \n",
    "    attn_implementation=\"eager\",  \n",
    "    device_map={\"\": \"cuda\"}\n",
    ")\n",
    "processor = AutoProcessor.from_pretrained(model_name,use_fast=True)"
   ]
  },
  {
   "cell_type": "code",
   "execution_count": null,
   "id": "f2fc2340-9b78-4eda-91e4-2b0a96b9c5cd",
   "metadata": {},
   "outputs": [],
   "source": [
    "messages = [\n",
    "    {\n",
    "        \"role\": \"user\",\n",
    "        \"content\": [\n",
    "            {\n",
    "                \"type\": \"video\",\n",
    "                \"image\": \"\"#your path,\n",
    "                \"max_pixels\": 360 * 420,\n",
    "                \"fps\": 1.0,\n",
    "            },\n",
    "            {\"type\": \"text\", \"text\": \"Consider yourself as a airforce pilot who is operating a drone at this moment, explain this event.\"},\n",
    "        ],\n",
    "    }\n",
    "]"
   ]
  },
  {
   "cell_type": "code",
   "execution_count": 13,
   "id": "ba29b48c-200b-4cd6-b48d-90ecc241f986",
   "metadata": {},
   "outputs": [
    {
     "data": {
      "text/plain": [
       "[{'role': 'user',\n",
       "  'content': [{'type': 'video',\n",
       "    'image': 'C:/Users/kmano/Downloads/nn.png',\n",
       "    'max_pixels': 151200,\n",
       "    'fps': 1.0},\n",
       "   {'type': 'text',\n",
       "    'text': 'Consider yourself as a airforce pilot who is operating a drone at this moment, explain this event.'}]}]"
      ]
     },
     "execution_count": 13,
     "metadata": {},
     "output_type": "execute_result"
    }
   ],
   "source": [
    "messages"
   ]
  },
  {
   "cell_type": "code",
   "execution_count": 14,
   "id": "6b604151-af0e-4c49-816e-fd576a0f0dc4",
   "metadata": {
    "scrolled": true
   },
   "outputs": [
    {
     "name": "stdout",
     "output_type": "stream",
     "text": [
      "As an airforce pilot operating a drone, you are currently navigating a snowy urban environment. The drone is equipped with a traffic lights manager system, which is currently in the process of adjusting the traffic lights at a roundabout. The system is using a timed traffic lights manager to ensure that vehicles are moving smoothly and safely through the intersection.\n",
      "\n",
      "The roundabout is marked with a red circle, indicating that the traffic lights are currently in the red phase. The drone is monitoring the traffic lights and adjusting them accordingly to maintain order and prevent any accidents. The system is designed to adapt to changing traffic conditions and ensure that the roads are clear and safe for all vehicles.\n",
      "\n",
      "As an airforce pilot, your primary responsibility is to ensure the safety and efficiency of your drone operations. By monitoring the traffic lights and adjusting them as necessary, you are helping to maintain a smooth flow of traffic and prevent any accidents.\n"
     ]
    }
   ],
   "source": [
    "text = processor.apply_chat_template(\n",
    "    messages, tokenize=False, add_generation_prompt=True\n",
    ")\n",
    "image_inputs, video_inputs = process_vision_info(messages)\n",
    "inputs = processor(\n",
    "    text=[text],\n",
    "    images=image_inputs,\n",
    "    videos=video_inputs,\n",
    "    padding=True,\n",
    "    return_tensors=\"pt\",\n",
    ")\n",
    "inputs = inputs.to(\"cuda\")\n",
    "generated_ids = model.generate(**inputs, max_new_tokens=512)\n",
    "generated_ids_trimmed = [\n",
    "    out_ids[len(in_ids) :] for in_ids, out_ids in zip(inputs.input_ids, generated_ids)\n",
    "]\n",
    "output_text = processor.batch_decode(\n",
    "    generated_ids_trimmed, skip_special_tokens=True, clean_up_tokenization_spaces=False\n",
    ")\n",
    "print(\"\".join(output_text))"
   ]
  },
  {
   "cell_type": "code",
   "execution_count": 10,
   "id": "519927e5-8498-4330-9960-d823fad41e3f",
   "metadata": {},
   "outputs": [
    {
     "name": "stdout",
     "output_type": "stream",
     "text": [
      "As an airforce pilot maneuvering a drone, you are currently at a crossroads with a traffic light that is currently red. The traffic light is positioned in the center of the intersection, and there are no vehicles or pedestrians visible in the immediate vicinity. The traffic light is likely controlling the flow of traffic at this intersection, ensuring that vehicles and pedestrians can safely navigate the intersection.\n",
      "\n",
      "In this scenario, you would need to monitor the traffic light closely and adjust your drone's position accordingly to maintain a safe distance from the traffic light. You would need to ensure that your drone is not obstructing the traffic light or causing any delays for vehicles and pedestrians. Additionally, you would need to be aware of any changes in the traffic light's signal, such as a change to green or yellow, and adjust your drone's position accordingly to maintain a safe distance from the intersection.\n"
     ]
    }
   ],
   "source": [
    "print(\"\".join(output_text))"
   ]
  },
  {
   "cell_type": "code",
   "execution_count": 11,
   "id": "6a928b6a-900f-4f0b-8900-1b45ffb595d1",
   "metadata": {},
   "outputs": [],
   "source": [
    "torch.cuda.empty_cache()"
   ]
  },
  {
   "cell_type": "code",
   "execution_count": null,
   "id": "3deb7b79-7d75-425f-b95f-ce810b457bea",
   "metadata": {},
   "outputs": [],
   "source": []
  }
 ],
 "metadata": {
  "kernelspec": {
   "display_name": "Python 3 (ipykernel)",
   "language": "python",
   "name": "python3"
  },
  "language_info": {
   "codemirror_mode": {
    "name": "ipython",
    "version": 3
   },
   "file_extension": ".py",
   "mimetype": "text/x-python",
   "name": "python",
   "nbconvert_exporter": "python",
   "pygments_lexer": "ipython3",
   "version": "3.11.11"
  }
 },
 "nbformat": 4,
 "nbformat_minor": 5
}
