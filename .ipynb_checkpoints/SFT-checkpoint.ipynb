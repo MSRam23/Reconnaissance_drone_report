{
 "cells": [
  {
   "cell_type": "code",
   "execution_count": null,
   "id": "73fa6d6d-198e-4257-900b-7760a7251db1",
   "metadata": {},
   "outputs": [],
   "source": []
  },
  {
   "cell_type": "code",
   "execution_count": null,
   "id": "8c009ec2",
   "metadata": {},
   "outputs": [],
   "source": [
    "data=[]"
   ]
  },
  {
   "cell_type": "code",
   "execution_count": null,
   "id": "09717d34-ee6e-4358-ab17-41861a6b8f1c",
   "metadata": {},
   "outputs": [],
   "source": [
    "data.append(\n",
    "    {\n",
    "        \"image\": \"C:/AI/Github/Reconnaissance_drone_report/Data/Images/earthquake/download.jpg\",\n",
    "        \"text\": \"Describe the image.\",\n",
    "        \"content\": \"This image shows a distructed building due to earthquake since there is a lot of debris is setteled in this area\"\n",
    "    }\n",
    ")"
   ]
  },
  {
   "cell_type": "code",
   "execution_count": 1,
   "id": "b2ea7fe2-3ee8-4338-b01f-98fa32991391",
   "metadata": {},
   "outputs": [
    {
     "name": "stderr",
     "output_type": "stream",
     "text": [
      "C:\\Users\\kmano\\miniconda3\\envs\\lstr\\Lib\\site-packages\\requests\\__init__.py:86: RequestsDependencyWarning: Unable to find acceptable character detection dependency (chardet or charset_normalizer).\n",
      "  warnings.warn(\n"
     ]
    }
   ],
   "source": [
    "import os\n",
    "import json\n",
    "import torch\n",
    "from PIL import Image\n",
    "from transformers import (\n",
    "    Qwen2VLForConditionalGeneration,\n",
    "    Qwen2VLProcessor,\n",
    "    TrainingArguments,\n",
    "    Trainer\n",
    ")\n",
    "from peft import LoraConfig, get_peft_model\n",
    "from datasets import Dataset\n",
    "\n",
    "# Configuration\n",
    "MODEL_NAME = \"Qwen/Qwen2-VL-2B-Instruct\"\n",
    "DATASET_PATH = \"train_dataset.json\"  # Dataset is directly in root\n",
    "IMAGE_DIR = \"Data/Images\"            # Images are in Data/Images\n",
    "OUTPUT_DIR = \"ayntb_checkpoints\"       # Checkpoints are in ayntb_checkpoints\n",
    "LORA_CONFIG = LoraConfig(\n",
    "    r=16,\n",
    "    lora_alpha=32,\n",
    "    target_modules=[\"q_proj\", \"k_proj\", \"v_proj\", \"o_proj\"],\n",
    "    lora_dropout=0.05,\n",
    "    bias=\"none\",\n",
    "    task_type=\"CAUSAL_LM\"\n",
    ")\n"
   ]
  },
  {
   "cell_type": "code",
   "execution_count": 2,
   "id": "9b5040bd-fb7f-48b2-9599-ab4e43ccea9f",
   "metadata": {},
   "outputs": [],
   "source": [
    "def create_dataset(json_path, image_dir):\n",
    "    with open(json_path) as f:\n",
    "        data = json.load(f)\n",
    "    \n",
    "    processed_data = []\n",
    "    for item in data:\n",
    "        conversations = []\n",
    "        for conv in item[\"conversations\"]:\n",
    "            if conv[\"role\"] == \"user\":\n",
    "                content = []\n",
    "                for c in conv[\"content\"]:\n",
    "                    if c[\"type\"] == \"image\":\n",
    "                        # Construct image path relative to the root\n",
    "                        \n",
    "                        #img_path = os.path.join(image_dir, c[\"image_path\"])\n",
    "                        img_path = os.path.join(image_dir, c.get(\"image\", c.get(\"image_path\")))\n",
    "                        content.append({\"type\": \"image\", \"image\": Image.open(img_path)})\n",
    "                        \n",
    "\n",
    "                    else:\n",
    "                        content.append({\"type\": \"text\", \"text\": c[\"text\"]})\n",
    "                conversations.append({\"role\": \"user\", \"content\": content})\n",
    "            else:\n",
    "                conversations.append({\"role\": \"assistant\", \"content\": conv[\"content\"]})\n",
    "        processed_data.append({\"conversations\": conversations})\n",
    "    \n",
    "    return Dataset.from_list(processed_data)\n"
   ]
  },
  {
   "cell_type": "code",
   "execution_count": 3,
   "id": "4d7167fd-c7ad-4006-aa0d-ddb4b5d31894",
   "metadata": {},
   "outputs": [],
   "source": [
    "# 2. Data Collator\n",
    "def collator(features):\n",
    "    processor = Qwen2VLProcessor.from_pretrained(MODEL_NAME)\n",
    "    conversations = [feature[\"conversations\"] for feature in features]\n",
    "    \n",
    "    inputs = processor.process_conversation(\n",
    "        conversations,\n",
    "        padding=True,\n",
    "        truncation=True,\n",
    "        return_tensors=\"pt\",\n",
    "        max_length=512\n",
    "    )\n",
    "    \n",
    "    return {\n",
    "        \"input_ids\": inputs[\"input_ids\"],\n",
    "        \"attention_mask\": inputs[\"attention_mask\"],\n",
    "        \"pixel_values\": inputs[\"pixel_values\"],\n",
    "        \"labels\": inputs[\"labels\"]\n",
    "    }"
   ]
  },
  {
   "cell_type": "code",
   "execution_count": 4,
   "id": "72310277-9bef-4541-a041-9d8dec1f4a1c",
   "metadata": {},
   "outputs": [
    {
     "name": "stderr",
     "output_type": "stream",
     "text": [
      "The `load_in_4bit` and `load_in_8bit` arguments are deprecated and will be removed in the future versions. Please, pass a `BitsAndBytesConfig` object in `quantization_config` argument instead.\n"
     ]
    },
    {
     "data": {
      "application/vnd.jupyter.widget-view+json": {
       "model_id": "0f0ede0e070b4912b2abc1f1fa3ace1b",
       "version_major": 2,
       "version_minor": 0
      },
      "text/plain": [
       "Loading checkpoint shards:   0%|          | 0/2 [00:00<?, ?it/s]"
      ]
     },
     "metadata": {},
     "output_type": "display_data"
    },
    {
     "name": "stderr",
     "output_type": "stream",
     "text": [
      "Using a slow image processor as `use_fast` is unset and a slow processor was saved with this model. `use_fast=True` will be the default behavior in v4.52, even if the model was saved with a slow processor. This will result in minor differences in outputs. You'll still be able to use a slow processor with `use_fast=False`.\n"
     ]
    },
    {
     "name": "stdout",
     "output_type": "stream",
     "text": [
      "trainable params: 4,358,144 || all params: 2,213,343,744 || trainable%: 0.1969\n"
     ]
    }
   ],
   "source": [
    "# 3. Load Model and Processor\n",
    "model = Qwen2VLForConditionalGeneration.from_pretrained(\n",
    "    MODEL_NAME,\n",
    "    device_map=\"auto\",\n",
    "    load_in_8bit=True,\n",
    "    torch_dtype=torch.float16,\n",
    "    llm_int8_enable_fp32_cpu_offload=True\n",
    ")\n",
    "processor = Qwen2VLProcessor.from_pretrained(MODEL_NAME)\n",
    "\n",
    "# Apply LoRA\n",
    "model = get_peft_model(model, LORA_CONFIG)\n",
    "model.print_trainable_parameters()"
   ]
  },
  {
   "cell_type": "code",
   "execution_count": 5,
   "id": "17f740c4-26cf-482b-8c33-eba0b09ab988",
   "metadata": {},
   "outputs": [],
   "source": [
    "# 4. Training Setup\n",
    "training_args = TrainingArguments(\n",
    "    output_dir=OUTPUT_DIR,\n",
    "    per_device_train_batch_size=1,\n",
    "    gradient_accumulation_steps=2,\n",
    "    num_train_epochs=3,\n",
    "    learning_rate=2e-5,\n",
    "    fp16=True,\n",
    "    save_strategy=\"epoch\",\n",
    "    logging_steps=10,\n",
    "    remove_unused_columns=False,\n",
    "    optim=\"adafactor\",  # Memory-efficient optimizer\n",
    "    torch_compile=True,  # Uses CUDA graphs\n",
    "    report_to=\"none\"     # Disable TensorBoard/WandB\n",
    ")"
   ]
  },
  {
   "cell_type": "code",
   "execution_count": 6,
   "id": "49b42fd1-fb3f-473f-af44-8ebed2807e29",
   "metadata": {},
   "outputs": [
    {
     "ename": "KeyError",
     "evalue": "'image_path'",
     "output_type": "error",
     "traceback": [
      "\u001b[1;31m---------------------------------------------------------------------------\u001b[0m",
      "\u001b[1;31mKeyError\u001b[0m                                  Traceback (most recent call last)",
      "Cell \u001b[1;32mIn[6], line 5\u001b[0m\n\u001b[0;32m      1\u001b[0m \u001b[38;5;66;03m# 5. Create Trainer\u001b[39;00m\n\u001b[0;32m      2\u001b[0m trainer \u001b[38;5;241m=\u001b[39m Trainer(\n\u001b[0;32m      3\u001b[0m     model\u001b[38;5;241m=\u001b[39mmodel,\n\u001b[0;32m      4\u001b[0m     args\u001b[38;5;241m=\u001b[39mtraining_args,\n\u001b[1;32m----> 5\u001b[0m     train_dataset\u001b[38;5;241m=\u001b[39mcreate_dataset(DATASET_PATH, IMAGE_DIR),\n\u001b[0;32m      6\u001b[0m     data_collator\u001b[38;5;241m=\u001b[39mcollator,\n\u001b[0;32m      7\u001b[0m )\n",
      "Cell \u001b[1;32mIn[2], line 14\u001b[0m, in \u001b[0;36mcreate_dataset\u001b[1;34m(json_path, image_dir)\u001b[0m\n\u001b[0;32m     11\u001b[0m \u001b[38;5;28;01mfor\u001b[39;00m c \u001b[38;5;129;01min\u001b[39;00m conv[\u001b[38;5;124m\"\u001b[39m\u001b[38;5;124mcontent\u001b[39m\u001b[38;5;124m\"\u001b[39m]:\n\u001b[0;32m     12\u001b[0m     \u001b[38;5;28;01mif\u001b[39;00m c[\u001b[38;5;124m\"\u001b[39m\u001b[38;5;124mtype\u001b[39m\u001b[38;5;124m\"\u001b[39m] \u001b[38;5;241m==\u001b[39m \u001b[38;5;124m\"\u001b[39m\u001b[38;5;124mimage\u001b[39m\u001b[38;5;124m\"\u001b[39m:\n\u001b[0;32m     13\u001b[0m         \u001b[38;5;66;03m# Construct image path relative to the root\u001b[39;00m\n\u001b[1;32m---> 14\u001b[0m         img_path \u001b[38;5;241m=\u001b[39m os\u001b[38;5;241m.\u001b[39mpath\u001b[38;5;241m.\u001b[39mjoin(image_dir, c[\u001b[38;5;124m\"\u001b[39m\u001b[38;5;124mimage_path\u001b[39m\u001b[38;5;124m\"\u001b[39m])\n\u001b[0;32m     15\u001b[0m         content\u001b[38;5;241m.\u001b[39mappend({\u001b[38;5;124m\"\u001b[39m\u001b[38;5;124mtype\u001b[39m\u001b[38;5;124m\"\u001b[39m: \u001b[38;5;124m\"\u001b[39m\u001b[38;5;124mimage\u001b[39m\u001b[38;5;124m\"\u001b[39m, \u001b[38;5;124m\"\u001b[39m\u001b[38;5;124mimage\u001b[39m\u001b[38;5;124m\"\u001b[39m: Image\u001b[38;5;241m.\u001b[39mopen(img_path)})\n\u001b[0;32m     16\u001b[0m     \u001b[38;5;28;01melse\u001b[39;00m:\n",
      "\u001b[1;31mKeyError\u001b[0m: 'image_path'"
     ]
    }
   ],
   "source": [
    "# 5. Create Trainer\n",
    "trainer = Trainer(\n",
    "    model=model,\n",
    "    args=training_args,\n",
    "    train_dataset=create_dataset(DATASET_PATH, IMAGE_DIR),\n",
    "    data_collator=collator,\n",
    ")"
   ]
  },
  {
   "cell_type": "code",
   "execution_count": null,
   "id": "bbaf6c8a-23f6-4d93-aa29-eb01cc38bc45",
   "metadata": {},
   "outputs": [],
   "source": [
    "trainer.train()\n",
    "trainer.save_model(OUTPUT_DIR)\n",
    "processor.save_pretrained(OUTPUT_DIR)"
   ]
  },
  {
   "cell_type": "code",
   "execution_count": null,
   "id": "4ba72172",
   "metadata": {},
   "outputs": [],
   "source": [
    "torch.cuda.empty_cache()"
   ]
  },
  {
   "cell_type": "code",
   "execution_count": null,
   "id": "7e39dbca-9865-49e7-ab03-ebbec51cac41",
   "metadata": {},
   "outputs": [],
   "source": [
    "!pip install matplotlib tiktoken"
   ]
  },
  {
   "cell_type": "code",
   "execution_count": null,
   "id": "da4c1e04-4ecd-43ee-abf9-64c0d3ec9798",
   "metadata": {},
   "outputs": [],
   "source": []
  }
 ],
 "metadata": {
  "kernelspec": {
   "display_name": "Python 3 (ipykernel)",
   "language": "python",
   "name": "python3"
  },
  "language_info": {
   "codemirror_mode": {
    "name": "ipython",
    "version": 3
   },
   "file_extension": ".py",
   "mimetype": "text/x-python",
   "name": "python",
   "nbconvert_exporter": "python",
   "pygments_lexer": "ipython3",
   "version": "3.11.11"
  }
 },
 "nbformat": 4,
 "nbformat_minor": 5
}
