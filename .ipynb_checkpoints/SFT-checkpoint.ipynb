{
 "cells": [
  {
   "cell_type": "code",
   "execution_count": 13,
   "id": "8c009ec2",
   "metadata": {},
   "outputs": [],
   "source": [
    "import json\n",
    "\n",
    "data = []\n",
    "\n",
    "# Example for image\n",
    "data.append({\n",
    "  \"messages\": [\n",
    "    {\n",
    "      \"role\": \"user\",\n",
    "      \"content\": [\n",
    "        {\"type\": \"image\", \"image\": \"Data\\Images\\earthquake\\download.jpg\"},\n",
    "        {\"type\": \"text\", \"text\": \"Describe this image in detail.\"}\n",
    "      ]\n",
    "    },\n",
    "    {\n",
    "      \"role\": \"assistant\",\n",
    "      \"content\": \"This image shows a distructed building due to earthquake since there is a lot of debris is setteled in this area\"\n",
    "    }\n",
    "  ]\n",
    "})\n",
    "\n",
    "# Example for video\n",
    "data.append({\n",
    "  \"messages\": [\n",
    "    {\n",
    "      \"role\": \"user\",\n",
    "      \"content\": [\n",
    "        {\n",
    "          \"type\": \"video\",\n",
    "          \"image\": \"Data\\Images\\earthquake\\download2.jpg\",\n",
    "          \"max_pixels\": 360 * 420,\n",
    "          \"fps\": 1.0\n",
    "        },\n",
    "        {\"type\": \"text\", \"text\": \"What can be inferred from this surveillance video?\"}\n",
    "      ]\n",
    "    },\n",
    "    {\n",
    "      \"role\": \"assistant\",\n",
    "      \"content\": \"This Image shows the damaged houses which might be made of wood, this might be due to earthquake\"\n",
    "    }\n",
    "  ]\n",
    "})\n",
    "\n",
    "# Save to file\n",
    "with open(\"train_dataset.json\", \"w\") as f:\n",
    "    json.dump(data, f, indent=2)\n"
   ]
  },
  {
   "cell_type": "code",
   "execution_count": 6,
   "id": "4ba72172",
   "metadata": {},
   "outputs": [
    {
     "name": "stdout",
     "output_type": "stream",
     "text": [
      "Collecting transformers==4.38.2\n",
      "  Using cached transformers-4.38.2-py3-none-any.whl.metadata (130 kB)\n",
      "Collecting sentencepiece\n",
      "  Downloading sentencepiece-0.2.0-cp311-cp311-win_amd64.whl.metadata (8.3 kB)\n",
      "Requirement already satisfied: filelock in c:\\users\\kmano\\miniconda3\\envs\\lstr\\lib\\site-packages (from transformers==4.38.2) (3.18.0)\n",
      "Requirement already satisfied: huggingface-hub<1.0,>=0.19.3 in c:\\users\\kmano\\miniconda3\\envs\\lstr\\lib\\site-packages (from transformers==4.38.2) (0.30.1)\n",
      "Requirement already satisfied: numpy>=1.17 in c:\\users\\kmano\\miniconda3\\envs\\lstr\\lib\\site-packages (from transformers==4.38.2) (2.2.4)\n",
      "Requirement already satisfied: packaging>=20.0 in c:\\users\\kmano\\miniconda3\\envs\\lstr\\lib\\site-packages (from transformers==4.38.2) (24.2)\n",
      "Requirement already satisfied: pyyaml>=5.1 in c:\\users\\kmano\\miniconda3\\envs\\lstr\\lib\\site-packages (from transformers==4.38.2) (6.0.2)\n",
      "Requirement already satisfied: regex!=2019.12.17 in c:\\users\\kmano\\miniconda3\\envs\\lstr\\lib\\site-packages (from transformers==4.38.2) (2024.11.6)\n",
      "Requirement already satisfied: requests in c:\\users\\kmano\\miniconda3\\envs\\lstr\\lib\\site-packages (from transformers==4.38.2) (2.32.3)\n",
      "Collecting tokenizers<0.19,>=0.14 (from transformers==4.38.2)\n",
      "  Using cached tokenizers-0.15.2-cp311-none-win_amd64.whl.metadata (6.8 kB)\n",
      "Requirement already satisfied: safetensors>=0.4.1 in c:\\users\\kmano\\miniconda3\\envs\\lstr\\lib\\site-packages (from transformers==4.38.2) (0.5.3)\n",
      "Requirement already satisfied: tqdm>=4.27 in c:\\users\\kmano\\miniconda3\\envs\\lstr\\lib\\site-packages (from transformers==4.38.2) (4.67.1)\n",
      "Requirement already satisfied: fsspec>=2023.5.0 in c:\\users\\kmano\\miniconda3\\envs\\lstr\\lib\\site-packages (from huggingface-hub<1.0,>=0.19.3->transformers==4.38.2) (2025.3.2)\n",
      "Requirement already satisfied: typing-extensions>=3.7.4.3 in c:\\users\\kmano\\miniconda3\\envs\\lstr\\lib\\site-packages (from huggingface-hub<1.0,>=0.19.3->transformers==4.38.2) (4.12.2)\n",
      "Requirement already satisfied: colorama in c:\\users\\kmano\\miniconda3\\envs\\lstr\\lib\\site-packages (from tqdm>=4.27->transformers==4.38.2) (0.4.6)\n",
      "Requirement already satisfied: charset-normalizer<4,>=2 in c:\\users\\kmano\\miniconda3\\envs\\lstr\\lib\\site-packages (from requests->transformers==4.38.2) (3.4.1)\n",
      "Requirement already satisfied: idna<4,>=2.5 in c:\\users\\kmano\\miniconda3\\envs\\lstr\\lib\\site-packages (from requests->transformers==4.38.2) (3.10)\n",
      "Requirement already satisfied: urllib3<3,>=1.21.1 in c:\\users\\kmano\\miniconda3\\envs\\lstr\\lib\\site-packages (from requests->transformers==4.38.2) (2.3.0)\n",
      "Requirement already satisfied: certifi>=2017.4.17 in c:\\users\\kmano\\miniconda3\\envs\\lstr\\lib\\site-packages (from requests->transformers==4.38.2) (2025.1.31)\n",
      "Using cached transformers-4.38.2-py3-none-any.whl (8.5 MB)\n",
      "Downloading sentencepiece-0.2.0-cp311-cp311-win_amd64.whl (991 kB)\n",
      "   ---------------------------------------- 0.0/991.5 kB ? eta -:--:--\n",
      "   ------------------------------- -------- 786.4/991.5 kB 6.7 MB/s eta 0:00:01\n",
      "   ---------------------------------------- 991.5/991.5 kB 6.7 MB/s eta 0:00:00\n",
      "Using cached tokenizers-0.15.2-cp311-none-win_amd64.whl (2.2 MB)\n",
      "Installing collected packages: sentencepiece, tokenizers, transformers\n",
      "  Attempting uninstall: tokenizers\n",
      "    Found existing installation: tokenizers 0.21.1\n",
      "    Uninstalling tokenizers-0.21.1:\n",
      "      Successfully uninstalled tokenizers-0.21.1\n",
      "  Attempting uninstall: transformers\n",
      "    Found existing installation: transformers 4.52.0.dev0\n",
      "    Uninstalling transformers-4.52.0.dev0:\n",
      "      Successfully uninstalled transformers-4.52.0.dev0\n",
      "Successfully installed sentencepiece-0.2.0 tokenizers-0.15.2 transformers-4.38.2\n"
     ]
    },
    {
     "name": "stderr",
     "output_type": "stream",
     "text": [
      "  WARNING: Failed to remove contents in a temporary directory 'C:\\Users\\kmano\\miniconda3\\envs\\lstr\\Lib\\site-packages\\~okenizers'.\n",
      "  You can safely remove it manually.\n"
     ]
    }
   ],
   "source": [
    "torch.cuda.empty_cache()"
   ]
  },
  {
   "cell_type": "code",
   "execution_count": null,
   "id": "7e39dbca-9865-49e7-ab03-ebbec51cac41",
   "metadata": {},
   "outputs": [],
   "source": []
  }
 ],
 "metadata": {
  "kernelspec": {
   "display_name": "Python 3 (ipykernel)",
   "language": "python",
   "name": "python3"
  },
  "language_info": {
   "codemirror_mode": {
    "name": "ipython",
    "version": 3
   },
   "file_extension": ".py",
   "mimetype": "text/x-python",
   "name": "python",
   "nbconvert_exporter": "python",
   "pygments_lexer": "ipython3",
   "version": "3.11.11"
  }
 },
 "nbformat": 4,
 "nbformat_minor": 5
}
