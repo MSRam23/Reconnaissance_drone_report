{
 "cells": [
  {
   "cell_type": "code",
   "execution_count": 1,
   "id": "f3c6cb5e-b080-41f1-bfab-a3933216d0be",
   "metadata": {},
   "outputs": [],
   "source": [
    "data=[]\n",
    "data.extend([{\"res\":23,\"fss\":56}])"
   ]
  },
  {
   "cell_type": "code",
   "execution_count": 2,
   "id": "f993085c-f480-44ad-84ac-628a67863266",
   "metadata": {},
   "outputs": [
    {
     "name": "stdout",
     "output_type": "stream",
     "text": [
      "[{'res': 23, 'fss': 56}]\n"
     ]
    }
   ],
   "source": [
    "print(data)"
   ]
  },
  {
   "cell_type": "code",
   "execution_count": 1,
   "id": "75cced14-f5a2-44c9-b6d1-4eca16636894",
   "metadata": {},
   "outputs": [],
   "source": [
    "from datasets import Dataset"
   ]
  },
  {
   "cell_type": "code",
   "execution_count": null,
   "id": "8b391146-1688-40d7-886a-fc483b8411bc",
   "metadata": {},
   "outputs": [],
   "source": [
    "!pip uninstall transformers\n"
   ]
  },
  {
   "cell_type": "code",
   "execution_count": null,
   "id": "6e1ba83d-1e4b-475a-b98e-224a1a4f338c",
   "metadata": {},
   "outputs": [],
   "source": [
    "!pip cache purge"
   ]
  },
  {
   "cell_type": "code",
   "execution_count": null,
   "id": "aab0a496-667b-4a8e-97ca-502cfeb2192c",
   "metadata": {},
   "outputs": [],
   "source": []
  }
 ],
 "metadata": {
  "kernelspec": {
   "display_name": "Python 3 (ipykernel)",
   "language": "python",
   "name": "python3"
  },
  "language_info": {
   "codemirror_mode": {
    "name": "ipython",
    "version": 3
   },
   "file_extension": ".py",
   "mimetype": "text/x-python",
   "name": "python",
   "nbconvert_exporter": "python",
   "pygments_lexer": "ipython3",
   "version": "3.11.11"
  }
 },
 "nbformat": 4,
 "nbformat_minor": 5
}
