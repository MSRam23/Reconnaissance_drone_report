{
 "cells": [
  {
   "cell_type": "code",
   "execution_count": null,
   "id": "73fa6d6d-198e-4257-900b-7760a7251db1",
   "metadata": {},
   "outputs": [],
   "source": []
  },
  {
   "cell_type": "code",
   "execution_count": null,
   "id": "8c009ec2",
   "metadata": {},
   "outputs": [],
   "source": [
    "data=[]"
   ]
  },
  {
   "cell_type": "code",
   "execution_count": null,
   "id": "09717d34-ee6e-4358-ab17-41861a6b8f1c",
   "metadata": {},
   "outputs": [],
   "source": [
    "data.append(\n",
    "    {\n",
    "        \"image\": \"C:/AI/Github/Reconnaissance_drone_report/Data/Images/earthquake/download.jpg\",\n",
    "        \"text\": \"Describe the image.\",\n",
    "        \"content\": \"This image shows a distructed building due to earthquake since there is a lot of debris is setteled in this area\"\n",
    "    }\n",
    ")"
   ]
  },
  {
   "cell_type": "code",
   "execution_count": 1,
   "id": "b2ea7fe2-3ee8-4338-b01f-98fa32991391",
   "metadata": {},
   "outputs": [
    {
     "name": "stderr",
     "output_type": "stream",
     "text": [
      "C:\\Users\\kmano\\miniconda3\\envs\\lstr\\Lib\\site-packages\\requests\\__init__.py:86: RequestsDependencyWarning: Unable to find acceptable character detection dependency (chardet or charset_normalizer).\n",
      "  warnings.warn(\n"
     ]
    }
   ],
   "source": [
    "import os\n",
    "import json\n",
    "import torch\n",
    "from PIL import Image\n",
    "from transformers import (\n",
    "    Qwen2VLForConditionalGeneration,\n",
    "    Qwen2VLProcessor,\n",
    "    TrainingArguments,\n",
    "    Trainer\n",
    ")\n",
    "from peft import LoraConfig, get_peft_model\n",
    "from datasets import Dataset\n",
    "\n",
    "# Configuration\n",
    "MODEL_NAME = \"Qwen/Qwen2-VL-2B-Instruct\"\n",
    "DATASET_PATH = \"train_dataset.json\"  # Dataset is directly in root\n",
    "IMAGE_DIR = \"Data/Images\"            # Images are in Data/Images\n",
    "OUTPUT_DIR = \"ayntb_checkpoints\"       # Checkpoints are in ayntb_checkpoints\n",
    "LORA_CONFIG = LoraConfig(\n",
    "    r=16,\n",
    "    lora_alpha=32,\n",
    "    target_modules=[\"q_proj\", \"k_proj\", \"v_proj\", \"o_proj\"],\n",
    "    lora_dropout=0.05,\n",
    "    bias=\"none\",\n",
    "    task_type=\"CAUSAL_LM\"\n",
    ")\n"
   ]
  },
  {
   "cell_type": "code",
   "execution_count": 2,
   "id": "9b5040bd-fb7f-48b2-9599-ab4e43ccea9f",
   "metadata": {},
   "outputs": [],
   "source": [
    "def create_dataset(json_path, image_dir):\n",
    "    with open(json_path) as f:\n",
    "        data = json.load(f)\n",
    "    \n",
    "    processed_data = []\n",
    "    for item in data:\n",
    "        conversations = []\n",
    "        for conv in item[\"conv\"]:\n",
    "            if conv[\"role\"] == \"user\":\n",
    "                content = []\n",
    "                for c in conv[\"content\"]:\n",
    "                    if c[\"type\"] == \"image\":\n",
    "                        # Construct image path relative to the root\n",
    "                        \n",
    "                        #img_path = os.path.join(image_dir, c[\"image_path\"])\n",
    "                        img_path = os.path.join(image_dir, c.get(\"image\", c.get(\"image_path\")))\n",
    "                        content.append({\"type\": \"image\", \"image\": Image.open(img_path)})\n",
    "                        \n",
    "\n",
    "                    else:\n",
    "                        content.append({\"type\": \"text\", \"text\": c[\"text\"]})\n",
    "                conversations.append({\"role\": \"user\", \"content\": content})\n",
    "            else:\n",
    "                conversations.append({\"role\": \"assistant\", \"content\": conv[\"content\"]})\n",
    "        processed_data.append({\"conversations\": conversations})\n",
    "    \n",
    "    return Dataset.from_list(processed_data)\n"
   ]
  },
  {
   "cell_type": "code",
   "execution_count": 3,
   "id": "4d7167fd-c7ad-4006-aa0d-ddb4b5d31894",
   "metadata": {},
   "outputs": [],
   "source": [
    "# 2. Data Collator\n",
    "def collator(features):\n",
    "    processor = Qwen2VLProcessor.from_pretrained(MODEL_NAME)\n",
    "    conversations = [feature[\"conversations\"] for feature in features]\n",
    "    \n",
    "    inputs = processor.process_conversation(\n",
    "        conversations,\n",
    "        padding=True,\n",
    "        truncation=True,\n",
    "        return_tensors=\"pt\",\n",
    "        max_length=512\n",
    "    )\n",
    "    \n",
    "    return {\n",
    "        \"input_ids\": inputs[\"input_ids\"],\n",
    "        \"attention_mask\": inputs[\"attention_mask\"],\n",
    "        \"pixel_values\": inputs[\"pixel_values\"],\n",
    "        \"labels\": inputs[\"labels\"]\n",
    "    }"
   ]
  },
  {
   "cell_type": "code",
   "execution_count": 4,
   "id": "72310277-9bef-4541-a041-9d8dec1f4a1c",
   "metadata": {},
   "outputs": [
    {
     "name": "stderr",
     "output_type": "stream",
     "text": [
      "The `load_in_4bit` and `load_in_8bit` arguments are deprecated and will be removed in the future versions. Please, pass a `BitsAndBytesConfig` object in `quantization_config` argument instead.\n"
     ]
    },
    {
     "data": {
      "application/vnd.jupyter.widget-view+json": {
       "model_id": "26e8972a8db54611817c25690e6c5523",
       "version_major": 2,
       "version_minor": 0
      },
      "text/plain": [
       "Loading checkpoint shards:   0%|          | 0/2 [00:00<?, ?it/s]"
      ]
     },
     "metadata": {},
     "output_type": "display_data"
    },
    {
     "name": "stderr",
     "output_type": "stream",
     "text": [
      "Using a slow image processor as `use_fast` is unset and a slow processor was saved with this model. `use_fast=True` will be the default behavior in v4.52, even if the model was saved with a slow processor. This will result in minor differences in outputs. You'll still be able to use a slow processor with `use_fast=False`.\n"
     ]
    },
    {
     "name": "stdout",
     "output_type": "stream",
     "text": [
      "trainable params: 4,358,144 || all params: 2,213,343,744 || trainable%: 0.1969\n"
     ]
    }
   ],
   "source": [
    "# 3. Load Model and Processor\n",
    "model = Qwen2VLForConditionalGeneration.from_pretrained(\n",
    "    MODEL_NAME,\n",
    "    device_map=\"auto\",\n",
    "    load_in_8bit=True,\n",
    "    torch_dtype=torch.float16,\n",
    "    llm_int8_enable_fp32_cpu_offload=True\n",
    ")\n",
    "processor = Qwen2VLProcessor.from_pretrained(MODEL_NAME)\n",
    "\n",
    "# Apply LoRA\n",
    "model = get_peft_model(model, LORA_CONFIG)\n",
    "model.print_trainable_parameters()"
   ]
  },
  {
   "cell_type": "code",
   "execution_count": 5,
   "id": "17f740c4-26cf-482b-8c33-eba0b09ab988",
   "metadata": {},
   "outputs": [],
   "source": [
    "# 4. Training Setup\n",
    "training_args = TrainingArguments(\n",
    "    output_dir=OUTPUT_DIR,\n",
    "    per_device_train_batch_size=1,\n",
    "    gradient_accumulation_steps=2,\n",
    "    num_train_epochs=3,\n",
    "    learning_rate=2e-5,\n",
    "    fp16=True,\n",
    "    save_strategy=\"epoch\",\n",
    "    logging_steps=10,\n",
    "    remove_unused_columns=False,\n",
    "    optim=\"adafactor\",  # Memory-efficient optimizer\n",
    "    torch_compile=True,  # Uses CUDA graphs\n",
    "    report_to=\"none\"     # Disable TensorBoard/WandB\n",
    ")"
   ]
  },
  {
   "cell_type": "code",
   "execution_count": 6,
   "id": "49b42fd1-fb3f-473f-af44-8ebed2807e29",
   "metadata": {},
   "outputs": [
    {
     "name": "stdout",
     "output_type": "stream",
     "text": [
      "{'conv': [{'role': 'user', 'content': [{'type': 'image', 'image_path': 'earthquake/download2.jpg'}, {'type': 'text', 'text': 'Describe the damage caused by this earthquake.'}]}, {'role': 'assistant', 'content': 'This image shows severe damage to buildings and infrastructure caused by the earthquake, including collapsed structures and debris-filled streets.'}]}\n"
     ]
    },
    {
     "ename": "ArrowInvalid",
     "evalue": "cannot mix list and non-list, non-null values",
     "output_type": "error",
     "traceback": [
      "\u001b[1;31m---------------------------------------------------------------------------\u001b[0m",
      "\u001b[1;31mArrowInvalid\u001b[0m                              Traceback (most recent call last)",
      "Cell \u001b[1;32mIn[6], line 5\u001b[0m\n\u001b[0;32m      1\u001b[0m \u001b[38;5;66;03m# 5. Create Trainer\u001b[39;00m\n\u001b[0;32m      2\u001b[0m trainer \u001b[38;5;241m=\u001b[39m Trainer(\n\u001b[0;32m      3\u001b[0m     model\u001b[38;5;241m=\u001b[39mmodel,\n\u001b[0;32m      4\u001b[0m     args\u001b[38;5;241m=\u001b[39mtraining_args,\n\u001b[1;32m----> 5\u001b[0m     train_dataset\u001b[38;5;241m=\u001b[39mcreate_dataset(DATASET_PATH, IMAGE_DIR),\n\u001b[0;32m      6\u001b[0m     data_collator\u001b[38;5;241m=\u001b[39mcollator,\n\u001b[0;32m      7\u001b[0m )\n",
      "Cell \u001b[1;32mIn[2], line 28\u001b[0m, in \u001b[0;36mcreate_dataset\u001b[1;34m(json_path, image_dir)\u001b[0m\n\u001b[0;32m     25\u001b[0m             conversations\u001b[38;5;241m.\u001b[39mappend({\u001b[38;5;124m\"\u001b[39m\u001b[38;5;124mrole\u001b[39m\u001b[38;5;124m\"\u001b[39m: \u001b[38;5;124m\"\u001b[39m\u001b[38;5;124massistant\u001b[39m\u001b[38;5;124m\"\u001b[39m, \u001b[38;5;124m\"\u001b[39m\u001b[38;5;124mcontent\u001b[39m\u001b[38;5;124m\"\u001b[39m: conv[\u001b[38;5;124m\"\u001b[39m\u001b[38;5;124mcontent\u001b[39m\u001b[38;5;124m\"\u001b[39m]})\n\u001b[0;32m     26\u001b[0m     processed_data\u001b[38;5;241m.\u001b[39mappend({\u001b[38;5;124m\"\u001b[39m\u001b[38;5;124mconversations\u001b[39m\u001b[38;5;124m\"\u001b[39m: conversations})\n\u001b[1;32m---> 28\u001b[0m \u001b[38;5;28;01mreturn\u001b[39;00m Dataset\u001b[38;5;241m.\u001b[39mfrom_list(processed_data)\n",
      "File \u001b[1;32m~\\miniconda3\\envs\\lstr\\Lib\\site-packages\\datasets\\arrow_dataset.py:986\u001b[0m, in \u001b[0;36mDataset.from_list\u001b[1;34m(cls, mapping, features, info, split)\u001b[0m\n\u001b[0;32m    984\u001b[0m \u001b[38;5;66;03m# for simplicity and consistency wrt OptimizedTypedSequence we do not use InMemoryTable.from_pylist here\u001b[39;00m\n\u001b[0;32m    985\u001b[0m mapping \u001b[38;5;241m=\u001b[39m {k: [r\u001b[38;5;241m.\u001b[39mget(k) \u001b[38;5;28;01mfor\u001b[39;00m r \u001b[38;5;129;01min\u001b[39;00m mapping] \u001b[38;5;28;01mfor\u001b[39;00m k \u001b[38;5;129;01min\u001b[39;00m mapping[\u001b[38;5;241m0\u001b[39m]} \u001b[38;5;28;01mif\u001b[39;00m mapping \u001b[38;5;28;01melse\u001b[39;00m {}\n\u001b[1;32m--> 986\u001b[0m \u001b[38;5;28;01mreturn\u001b[39;00m \u001b[38;5;28mcls\u001b[39m\u001b[38;5;241m.\u001b[39mfrom_dict(mapping, features, info, split)\n",
      "File \u001b[1;32m~\\miniconda3\\envs\\lstr\\Lib\\site-packages\\datasets\\arrow_dataset.py:940\u001b[0m, in \u001b[0;36mDataset.from_dict\u001b[1;34m(cls, mapping, features, info, split)\u001b[0m\n\u001b[0;32m    938\u001b[0m     arrow_typed_mapping[col] \u001b[38;5;241m=\u001b[39m data\n\u001b[0;32m    939\u001b[0m mapping \u001b[38;5;241m=\u001b[39m arrow_typed_mapping\n\u001b[1;32m--> 940\u001b[0m pa_table \u001b[38;5;241m=\u001b[39m InMemoryTable\u001b[38;5;241m.\u001b[39mfrom_pydict(mapping\u001b[38;5;241m=\u001b[39mmapping)\n\u001b[0;32m    941\u001b[0m \u001b[38;5;28;01mif\u001b[39;00m info \u001b[38;5;129;01mis\u001b[39;00m \u001b[38;5;28;01mNone\u001b[39;00m:\n\u001b[0;32m    942\u001b[0m     info \u001b[38;5;241m=\u001b[39m DatasetInfo()\n",
      "File \u001b[1;32m~\\miniconda3\\envs\\lstr\\Lib\\site-packages\\datasets\\table.py:758\u001b[0m, in \u001b[0;36mInMemoryTable.from_pydict\u001b[1;34m(cls, *args, **kwargs)\u001b[0m\n\u001b[0;32m    742\u001b[0m \u001b[38;5;129m@classmethod\u001b[39m\n\u001b[0;32m    743\u001b[0m \u001b[38;5;28;01mdef\u001b[39;00m \u001b[38;5;21mfrom_pydict\u001b[39m(\u001b[38;5;28mcls\u001b[39m, \u001b[38;5;241m*\u001b[39margs, \u001b[38;5;241m*\u001b[39m\u001b[38;5;241m*\u001b[39mkwargs):\n\u001b[0;32m    744\u001b[0m \u001b[38;5;250m    \u001b[39m\u001b[38;5;124;03m\"\"\"\u001b[39;00m\n\u001b[0;32m    745\u001b[0m \u001b[38;5;124;03m    Construct a Table from Arrow arrays or columns.\u001b[39;00m\n\u001b[0;32m    746\u001b[0m \n\u001b[1;32m   (...)\u001b[0m\n\u001b[0;32m    756\u001b[0m \u001b[38;5;124;03m        `datasets.table.Table`\u001b[39;00m\n\u001b[0;32m    757\u001b[0m \u001b[38;5;124;03m    \"\"\"\u001b[39;00m\n\u001b[1;32m--> 758\u001b[0m     \u001b[38;5;28;01mreturn\u001b[39;00m \u001b[38;5;28mcls\u001b[39m(pa\u001b[38;5;241m.\u001b[39mTable\u001b[38;5;241m.\u001b[39mfrom_pydict(\u001b[38;5;241m*\u001b[39margs, \u001b[38;5;241m*\u001b[39m\u001b[38;5;241m*\u001b[39mkwargs))\n",
      "File \u001b[1;32m~\\miniconda3\\envs\\lstr\\Lib\\site-packages\\pyarrow\\table.pxi:1968\u001b[0m, in \u001b[0;36mpyarrow.lib._Tabular.from_pydict\u001b[1;34m()\u001b[0m\n",
      "File \u001b[1;32m~\\miniconda3\\envs\\lstr\\Lib\\site-packages\\pyarrow\\table.pxi:6337\u001b[0m, in \u001b[0;36mpyarrow.lib._from_pydict\u001b[1;34m()\u001b[0m\n",
      "File \u001b[1;32m~\\miniconda3\\envs\\lstr\\Lib\\site-packages\\pyarrow\\array.pxi:402\u001b[0m, in \u001b[0;36mpyarrow.lib.asarray\u001b[1;34m()\u001b[0m\n",
      "File \u001b[1;32m~\\miniconda3\\envs\\lstr\\Lib\\site-packages\\pyarrow\\array.pxi:252\u001b[0m, in \u001b[0;36mpyarrow.lib.array\u001b[1;34m()\u001b[0m\n",
      "File \u001b[1;32m~\\miniconda3\\envs\\lstr\\Lib\\site-packages\\pyarrow\\array.pxi:114\u001b[0m, in \u001b[0;36mpyarrow.lib._handle_arrow_array_protocol\u001b[1;34m()\u001b[0m\n",
      "File \u001b[1;32m~\\miniconda3\\envs\\lstr\\Lib\\site-packages\\datasets\\arrow_writer.py:229\u001b[0m, in \u001b[0;36mTypedSequence.__arrow_array__\u001b[1;34m(self, type)\u001b[0m\n\u001b[0;32m    227\u001b[0m \u001b[38;5;28;01melse\u001b[39;00m:\n\u001b[0;32m    228\u001b[0m     trying_cast_to_python_objects \u001b[38;5;241m=\u001b[39m \u001b[38;5;28;01mTrue\u001b[39;00m\n\u001b[1;32m--> 229\u001b[0m     out \u001b[38;5;241m=\u001b[39m pa\u001b[38;5;241m.\u001b[39marray(cast_to_python_objects(data, only_1d_for_numpy\u001b[38;5;241m=\u001b[39m\u001b[38;5;28;01mTrue\u001b[39;00m))\n\u001b[0;32m    230\u001b[0m \u001b[38;5;66;03m# use smaller integer precisions if possible\u001b[39;00m\n\u001b[0;32m    231\u001b[0m \u001b[38;5;28;01mif\u001b[39;00m \u001b[38;5;28mself\u001b[39m\u001b[38;5;241m.\u001b[39mtrying_int_optimization:\n",
      "File \u001b[1;32m~\\miniconda3\\envs\\lstr\\Lib\\site-packages\\pyarrow\\array.pxi:372\u001b[0m, in \u001b[0;36mpyarrow.lib.array\u001b[1;34m()\u001b[0m\n",
      "File \u001b[1;32m~\\miniconda3\\envs\\lstr\\Lib\\site-packages\\pyarrow\\array.pxi:42\u001b[0m, in \u001b[0;36mpyarrow.lib._sequence_to_array\u001b[1;34m()\u001b[0m\n",
      "File \u001b[1;32m~\\miniconda3\\envs\\lstr\\Lib\\site-packages\\pyarrow\\error.pxi:155\u001b[0m, in \u001b[0;36mpyarrow.lib.pyarrow_internal_check_status\u001b[1;34m()\u001b[0m\n",
      "File \u001b[1;32m~\\miniconda3\\envs\\lstr\\Lib\\site-packages\\pyarrow\\error.pxi:92\u001b[0m, in \u001b[0;36mpyarrow.lib.check_status\u001b[1;34m()\u001b[0m\n",
      "\u001b[1;31mArrowInvalid\u001b[0m: cannot mix list and non-list, non-null values"
     ]
    }
   ],
   "source": [
    "# 5. Create Trainer\n",
    "trainer = Trainer(\n",
    "    model=model,\n",
    "    args=training_args,\n",
    "    train_dataset=create_dataset(DATASET_PATH, IMAGE_DIR),\n",
    "    data_collator=collator,\n",
    ")"
   ]
  },
  {
   "cell_type": "code",
   "execution_count": null,
   "id": "bbaf6c8a-23f6-4d93-aa29-eb01cc38bc45",
   "metadata": {},
   "outputs": [],
   "source": [
    "trainer.train()\n",
    "trainer.save_model(OUTPUT_DIR)\n",
    "processor.save_pretrained(OUTPUT_DIR)"
   ]
  },
  {
   "cell_type": "code",
   "execution_count": null,
   "id": "4ba72172",
   "metadata": {},
   "outputs": [],
   "source": [
    "torch.cuda.empty_cache()"
   ]
  },
  {
   "cell_type": "code",
   "execution_count": null,
   "id": "7e39dbca-9865-49e7-ab03-ebbec51cac41",
   "metadata": {},
   "outputs": [],
   "source": [
    "!pip install matplotlib tiktoken"
   ]
  },
  {
   "cell_type": "code",
   "execution_count": null,
   "id": "da4c1e04-4ecd-43ee-abf9-64c0d3ec9798",
   "metadata": {},
   "outputs": [],
   "source": []
  },
  {
   "cell_type": "code",
   "execution_count": null,
   "id": "d27eab2a-be15-488a-b73c-bc5dc5713173",
   "metadata": {},
   "outputs": [],
   "source": []
  }
 ],
 "metadata": {
  "kernelspec": {
   "display_name": "Python 3 (ipykernel)",
   "language": "python",
   "name": "python3"
  },
  "language_info": {
   "codemirror_mode": {
    "name": "ipython",
    "version": 3
   },
   "file_extension": ".py",
   "mimetype": "text/x-python",
   "name": "python",
   "nbconvert_exporter": "python",
   "pygments_lexer": "ipython3",
   "version": "3.11.11"
  }
 },
 "nbformat": 4,
 "nbformat_minor": 5
}
