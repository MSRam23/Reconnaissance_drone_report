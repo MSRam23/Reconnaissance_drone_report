{
 "cells": [
  {
   "cell_type": "code",
   "execution_count": null,
   "id": "73fa6d6d-198e-4257-900b-7760a7251db1",
   "metadata": {},
   "outputs": [],
   "source": []
  },
  {
   "cell_type": "code",
   "execution_count": 5,
   "id": "8c009ec2",
   "metadata": {},
   "outputs": [],
   "source": [
    "data=[]"
   ]
  },
  {
   "cell_type": "code",
   "execution_count": 6,
   "id": "09717d34-ee6e-4358-ab17-41861a6b8f1c",
   "metadata": {},
   "outputs": [],
   "source": [
    "data.append(\n",
    "    {\n",
    "        \"image\": \"C:/AI/Github/Reconnaissance_drone_report/Data/Images/earthquake/download.jpg\",\n",
    "        \"text\": \"Describe the image.\",\n",
    "        \"content\": \"This image shows a distructed building due to earthquake since there is a lot of debris is setteled in this area\"\n",
    "    }\n",
    ")"
   ]
  },
  {
   "cell_type": "code",
   "execution_count": 1,
   "id": "b2ea7fe2-3ee8-4338-b01f-98fa32991391",
   "metadata": {},
   "outputs": [
    {
     "name": "stderr",
     "output_type": "stream",
     "text": [
      "C:\\Users\\kmano\\miniconda3\\envs\\lstr\\Lib\\site-packages\\requests\\__init__.py:86: RequestsDependencyWarning: Unable to find acceptable character detection dependency (chardet or charset_normalizer).\n",
      "  warnings.warn(\n",
      "The `load_in_4bit` and `load_in_8bit` arguments are deprecated and will be removed in the future versions. Please, pass a `BitsAndBytesConfig` object in `quantization_config` argument instead.\n"
     ]
    },
    {
     "data": {
      "application/vnd.jupyter.widget-view+json": {
       "model_id": "2c59a72bdcdf4ddc98804f79ba718811",
       "version_major": 2,
       "version_minor": 0
      },
      "text/plain": [
       "Loading checkpoint shards:   0%|          | 0/2 [00:00<?, ?it/s]"
      ]
     },
     "metadata": {},
     "output_type": "display_data"
    },
    {
     "name": "stderr",
     "output_type": "stream",
     "text": [
      "Using a slow image processor as `use_fast` is unset and a slow processor was saved with this model. `use_fast=True` will be the default behavior in v4.52, even if the model was saved with a slow processor. This will result in minor differences in outputs. You'll still be able to use a slow processor with `use_fast=False`.\n"
     ]
    },
    {
     "name": "stdout",
     "output_type": "stream",
     "text": [
      "trainable params: 4,358,144 || all params: 2,213,343,744 || trainable%: 0.1969\n"
     ]
    },
    {
     "ename": "KeyError",
     "evalue": "'image_path'",
     "output_type": "error",
     "traceback": [
      "\u001b[1;31m---------------------------------------------------------------------------\u001b[0m",
      "\u001b[1;31mKeyError\u001b[0m                                  Traceback (most recent call last)",
      "Cell \u001b[1;32mIn[1], line 106\u001b[0m\n\u001b[0;32m     88\u001b[0m training_args \u001b[38;5;241m=\u001b[39m TrainingArguments(\n\u001b[0;32m     89\u001b[0m     output_dir\u001b[38;5;241m=\u001b[39mOUTPUT_DIR,\n\u001b[0;32m     90\u001b[0m     per_device_train_batch_size\u001b[38;5;241m=\u001b[39m\u001b[38;5;241m1\u001b[39m,\n\u001b[1;32m   (...)\u001b[0m\n\u001b[0;32m     99\u001b[0m     torch_compile\u001b[38;5;241m=\u001b[39m\u001b[38;5;28;01mTrue\u001b[39;00m  \u001b[38;5;66;03m# Uses CUDA graphs\u001b[39;00m\n\u001b[0;32m    100\u001b[0m )\n\u001b[0;32m    102\u001b[0m \u001b[38;5;66;03m# 5. Create Trainer\u001b[39;00m\n\u001b[0;32m    103\u001b[0m trainer \u001b[38;5;241m=\u001b[39m Trainer(\n\u001b[0;32m    104\u001b[0m     model\u001b[38;5;241m=\u001b[39mmodel,\n\u001b[0;32m    105\u001b[0m     args\u001b[38;5;241m=\u001b[39mtraining_args,\n\u001b[1;32m--> 106\u001b[0m     train_dataset\u001b[38;5;241m=\u001b[39mcreate_dataset(DATASET_PATH, IMAGE_DIR),\n\u001b[0;32m    107\u001b[0m     data_collator\u001b[38;5;241m=\u001b[39mcollator,\n\u001b[0;32m    108\u001b[0m )\n\u001b[0;32m    110\u001b[0m \u001b[38;5;66;03m# 6. Start Training\u001b[39;00m\n\u001b[0;32m    111\u001b[0m trainer\u001b[38;5;241m.\u001b[39mtrain()\n",
      "Cell \u001b[1;32mIn[1], line 43\u001b[0m, in \u001b[0;36mcreate_dataset\u001b[1;34m(json_path, image_dir)\u001b[0m\n\u001b[0;32m     41\u001b[0m \u001b[38;5;28;01mfor\u001b[39;00m c \u001b[38;5;129;01min\u001b[39;00m conv[\u001b[38;5;124m\"\u001b[39m\u001b[38;5;124mcontent\u001b[39m\u001b[38;5;124m\"\u001b[39m]:\n\u001b[0;32m     42\u001b[0m     \u001b[38;5;28;01mif\u001b[39;00m c[\u001b[38;5;124m\"\u001b[39m\u001b[38;5;124mtype\u001b[39m\u001b[38;5;124m\"\u001b[39m] \u001b[38;5;241m==\u001b[39m \u001b[38;5;124m\"\u001b[39m\u001b[38;5;124mimage\u001b[39m\u001b[38;5;124m\"\u001b[39m:\n\u001b[1;32m---> 43\u001b[0m         img_path \u001b[38;5;241m=\u001b[39m os\u001b[38;5;241m.\u001b[39mpath\u001b[38;5;241m.\u001b[39mjoin(image_dir, c[\u001b[38;5;124m\"\u001b[39m\u001b[38;5;124mimage_path\u001b[39m\u001b[38;5;124m\"\u001b[39m])\n\u001b[0;32m     44\u001b[0m         content\u001b[38;5;241m.\u001b[39mappend({\u001b[38;5;124m\"\u001b[39m\u001b[38;5;124mtype\u001b[39m\u001b[38;5;124m\"\u001b[39m: \u001b[38;5;124m\"\u001b[39m\u001b[38;5;124mimage\u001b[39m\u001b[38;5;124m\"\u001b[39m, \u001b[38;5;124m\"\u001b[39m\u001b[38;5;124mimage\u001b[39m\u001b[38;5;124m\"\u001b[39m: Image\u001b[38;5;241m.\u001b[39mopen(img_path)})\n\u001b[0;32m     45\u001b[0m     \u001b[38;5;28;01melse\u001b[39;00m:\n",
      "\u001b[1;31mKeyError\u001b[0m: 'image_path'"
     ]
    }
   ],
   "source": [
    "# fine_tune_qwen2_vl_2b.py\n",
    "\n",
    "import os\n",
    "import json\n",
    "import torch\n",
    "from PIL import Image\n",
    "from transformers import (\n",
    "    Qwen2VLForConditionalGeneration,\n",
    "    Qwen2VLProcessor,\n",
    "    TrainingArguments,\n",
    "    Trainer\n",
    ")\n",
    "from peft import LoraConfig, get_peft_model\n",
    "from datasets import Dataset\n",
    "\n",
    "# Configuration\n",
    "MODEL_NAME = \"Qwen/Qwen2-VL-2B-Instruct\"\n",
    "DATASET_PATH = \"./train_dataset.json\"\n",
    "IMAGE_DIR = \"./Data/Images/\"\n",
    "OUTPUT_DIR = \"./qwen2_vl_2b_finetuned\"\n",
    "LORA_CONFIG = LoraConfig(\n",
    "    r=16,\n",
    "    lora_alpha=32,\n",
    "    target_modules=[\"q_proj\", \"k_proj\", \"v_proj\", \"o_proj\"],\n",
    "    lora_dropout=0.05,\n",
    "    bias=\"none\",\n",
    "    task_type=\"CAUSAL_LM\"\n",
    ")\n",
    "\n",
    "# 1. Prepare Dataset\n",
    "def create_dataset(json_path, image_dir):\n",
    "    with open(json_path) as f:\n",
    "        data = json.load(f)\n",
    "    \n",
    "    processed_data = []\n",
    "    for item in data:\n",
    "        conversations = []\n",
    "        for conv in item[\"messages\"]:\n",
    "            if conv[\"role\"] == \"user\":\n",
    "                content = []\n",
    "                for c in conv[\"content\"]:\n",
    "                    if c[\"type\"] == \"image\":\n",
    "                        img_path = os.path.join(image_dir, c[\"image_path\"])\n",
    "                        content.append({\"type\": \"image\", \"image\": Image.open(img_path)})\n",
    "                    else:\n",
    "                        content.append({\"type\": \"text\", \"text\": c[\"text\"]})\n",
    "                conversations.append({\"role\": \"user\", \"content\": content})\n",
    "            else:\n",
    "                conversations.append({\"role\": \"assistant\", \"content\": conv[\"content\"]})\n",
    "        processed_data.append({\"messages\": conversations})\n",
    "    \n",
    "    return Dataset.from_list(processed_data)\n",
    "\n",
    "# 2. Data Collator\n",
    "def collator(features):\n",
    "    processor = Qwen2VLProcessor.from_pretrained(MODEL_NAME)\n",
    "    conversations = [feature[\"messages\"] for feature in features]\n",
    "    \n",
    "    inputs = processor.process_conversation(\n",
    "        conversations,\n",
    "        padding=True,\n",
    "        truncation=True,\n",
    "        return_tensors=\"pt\",\n",
    "        max_length=512\n",
    "    )\n",
    "    \n",
    "    return {\n",
    "        \"input_ids\": inputs[\"input_ids\"],\n",
    "        \"attention_mask\": inputs[\"attention_mask\"],\n",
    "        \"pixel_values\": inputs[\"pixel_values\"],\n",
    "        \"labels\": inputs[\"labels\"]\n",
    "    }\n",
    "\n",
    "# 3. Load Model and Processor\n",
    "model = Qwen2VLForConditionalGeneration.from_pretrained(\n",
    "    MODEL_NAME,\n",
    "    device_map=\"auto\",\n",
    "    load_in_8bit=True,\n",
    "    torch_dtype=torch.float16\n",
    ")\n",
    "processor = Qwen2VLProcessor.from_pretrained(MODEL_NAME)\n",
    "\n",
    "# Apply LoRA\n",
    "model = get_peft_model(model, LORA_CONFIG)\n",
    "model.print_trainable_parameters()\n",
    "\n",
    "# 4. Training Setup\n",
    "training_args = TrainingArguments(\n",
    "    output_dir=OUTPUT_DIR,\n",
    "    per_device_train_batch_size=1,\n",
    "    gradient_accumulation_steps=2,\n",
    "    num_train_epochs=3,\n",
    "    learning_rate=2e-5,\n",
    "    fp16=True,\n",
    "    save_strategy=\"epoch\",\n",
    "    logging_steps=10,\n",
    "    remove_unused_columns=False,\n",
    "    optim=\"adafactor\",  # Memory-efficient optimizer\n",
    "    torch_compile=True  # Uses CUDA graphs\n",
    ")\n",
    "\n",
    "# 5. Create Trainer\n",
    "trainer = Trainer(\n",
    "    model=model,\n",
    "    args=training_args,\n",
    "    train_dataset=create_dataset(DATASET_PATH, IMAGE_DIR),\n",
    "    data_collator=collator,\n",
    ")\n",
    "\n",
    "# 6. Start Training\n",
    "trainer.train()\n",
    "trainer.save_model(OUTPUT_DIR)\n",
    "processor.save_pretrained(OUTPUT_DIR)\n",
    "\n",
    "print(\"Training complete! Model saved to:\", OUTPUT_DIR)\n"
   ]
  },
  {
   "cell_type": "code",
   "execution_count": null,
   "id": "9b5040bd-fb7f-48b2-9599-ab4e43ccea9f",
   "metadata": {},
   "outputs": [],
   "source": []
  },
  {
   "cell_type": "code",
   "execution_count": null,
   "id": "4ba72172",
   "metadata": {},
   "outputs": [],
   "source": [
    "torch.cuda.empty_cache()"
   ]
  },
  {
   "cell_type": "code",
   "execution_count": null,
   "id": "7e39dbca-9865-49e7-ab03-ebbec51cac41",
   "metadata": {},
   "outputs": [],
   "source": [
    "!pip install matplotlib tiktoken"
   ]
  },
  {
   "cell_type": "code",
   "execution_count": null,
   "id": "da4c1e04-4ecd-43ee-abf9-64c0d3ec9798",
   "metadata": {},
   "outputs": [],
   "source": []
  }
 ],
 "metadata": {
  "kernelspec": {
   "display_name": "Python 3 (ipykernel)",
   "language": "python",
   "name": "python3"
  },
  "language_info": {
   "codemirror_mode": {
    "name": "ipython",
    "version": 3
   },
   "file_extension": ".py",
   "mimetype": "text/x-python",
   "name": "python",
   "nbconvert_exporter": "python",
   "pygments_lexer": "ipython3",
   "version": "3.11.11"
  }
 },
 "nbformat": 4,
 "nbformat_minor": 5
}
