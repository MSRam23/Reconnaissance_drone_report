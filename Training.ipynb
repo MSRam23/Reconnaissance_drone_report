{
 "cells": [
  {
   "cell_type": "code",
   "execution_count": 2,
   "id": "1c561100-dc20-4951-8e74-f60dafe02462",
   "metadata": {},
   "outputs": [
    {
     "ename": "TypeError",
     "evalue": "argument of type 'NoneType' is not iterable",
     "output_type": "error",
     "traceback": [
      "\u001b[1;31m---------------------------------------------------------------------------\u001b[0m",
      "\u001b[1;31mTypeError\u001b[0m                                 Traceback (most recent call last)",
      "Cell \u001b[1;32mIn[2], line 89\u001b[0m\n\u001b[0;32m     87\u001b[0m \u001b[38;5;66;03m# Check the first sample in the dataset\u001b[39;00m\n\u001b[0;32m     88\u001b[0m sample \u001b[38;5;241m=\u001b[39m train_dataset\n\u001b[1;32m---> 89\u001b[0m \u001b[38;5;28mprint\u001b[39m(\u001b[38;5;241m*\u001b[39msample)\n",
      "Cell \u001b[1;32mIn[2], line 42\u001b[0m, in \u001b[0;36mQwen2VLDataset.__getitem__\u001b[1;34m(self, idx)\u001b[0m\n\u001b[0;32m     40\u001b[0m     image \u001b[38;5;241m=\u001b[39m Image\u001b[38;5;241m.\u001b[39mopen(image_path)\u001b[38;5;241m.\u001b[39mconvert(\u001b[38;5;124m\"\u001b[39m\u001b[38;5;124mRGB\u001b[39m\u001b[38;5;124m\"\u001b[39m)\n\u001b[0;32m     41\u001b[0m     image \u001b[38;5;241m=\u001b[39m image\u001b[38;5;241m.\u001b[39mresize(\u001b[38;5;28mself\u001b[39m\u001b[38;5;241m.\u001b[39mimage_size)\n\u001b[1;32m---> 42\u001b[0m     image_input \u001b[38;5;241m=\u001b[39m \u001b[38;5;28mself\u001b[39m\u001b[38;5;241m.\u001b[39mprocessor(images\u001b[38;5;241m=\u001b[39mimage, return_tensors\u001b[38;5;241m=\u001b[39m\u001b[38;5;124m\"\u001b[39m\u001b[38;5;124mpt\u001b[39m\u001b[38;5;124m\"\u001b[39m)\u001b[38;5;241m.\u001b[39mpixel_values\n\u001b[0;32m     43\u001b[0m \u001b[38;5;28;01melif\u001b[39;00m image_or_video[\u001b[38;5;124m'\u001b[39m\u001b[38;5;124mtype\u001b[39m\u001b[38;5;124m'\u001b[39m] \u001b[38;5;241m==\u001b[39m \u001b[38;5;124m'\u001b[39m\u001b[38;5;124mvideo\u001b[39m\u001b[38;5;124m'\u001b[39m:\n\u001b[0;32m     44\u001b[0m     video_path \u001b[38;5;241m=\u001b[39m image_or_video[\u001b[38;5;124m'\u001b[39m\u001b[38;5;124mimage\u001b[39m\u001b[38;5;124m'\u001b[39m]\n",
      "File \u001b[1;32m~\\miniconda3\\envs\\lstr\\Lib\\site-packages\\transformers\\models\\qwen2_vl\\processing_qwen2_vl.py:146\u001b[0m, in \u001b[0;36mQwen2VLProcessor.__call__\u001b[1;34m(self, images, text, videos, **kwargs)\u001b[0m\n\u001b[0;32m    144\u001b[0m index \u001b[38;5;241m=\u001b[39m \u001b[38;5;241m0\u001b[39m\n\u001b[0;32m    145\u001b[0m \u001b[38;5;28;01mfor\u001b[39;00m i \u001b[38;5;129;01min\u001b[39;00m \u001b[38;5;28mrange\u001b[39m(\u001b[38;5;28mlen\u001b[39m(text)):\n\u001b[1;32m--> 146\u001b[0m     \u001b[38;5;28;01mwhile\u001b[39;00m \u001b[38;5;28mself\u001b[39m\u001b[38;5;241m.\u001b[39mimage_token \u001b[38;5;129;01min\u001b[39;00m text[i]:\n\u001b[0;32m    147\u001b[0m         text[i] \u001b[38;5;241m=\u001b[39m text[i]\u001b[38;5;241m.\u001b[39mreplace(\n\u001b[0;32m    148\u001b[0m             \u001b[38;5;28mself\u001b[39m\u001b[38;5;241m.\u001b[39mimage_token, \u001b[38;5;124m\"\u001b[39m\u001b[38;5;124m<|placeholder|>\u001b[39m\u001b[38;5;124m\"\u001b[39m \u001b[38;5;241m*\u001b[39m (image_grid_thw[index]\u001b[38;5;241m.\u001b[39mprod() \u001b[38;5;241m/\u001b[39m\u001b[38;5;241m/\u001b[39m merge_length), \u001b[38;5;241m1\u001b[39m\n\u001b[0;32m    149\u001b[0m         )\n\u001b[0;32m    150\u001b[0m         index \u001b[38;5;241m+\u001b[39m\u001b[38;5;241m=\u001b[39m \u001b[38;5;241m1\u001b[39m\n",
      "\u001b[1;31mTypeError\u001b[0m: argument of type 'NoneType' is not iterable"
     ]
    }
   ],
   "source": [
    "import torch\n",
    "from torch.utils.data import Dataset\n",
    "from transformers import AutoProcessor\n",
    "from PIL import Image\n",
    "import os\n",
    "import json\n",
    "\n",
    "class Qwen2VLDataset(Dataset):\n",
    "    def __init__(self, data_file, processor, image_size=(360, 420)):\n",
    "        with open(data_file, 'r') as f:\n",
    "            self.data = json.load(f) \n",
    "        self.processor = processor\n",
    "        self.image_size = image_size  \n",
    "\n",
    "    def __len__(self):\n",
    "        return len(self.data)\n",
    "\n",
    "    def __getitem__(self, idx):\n",
    "        item = self.data[idx]\n",
    "        messages = item['messages']\n",
    "\n",
    "        # Extract user message (image + prompt)\n",
    "        user_message = messages[0]\n",
    "        content = user_message['content']\n",
    "\n",
    "        # Safely extract image or video info\n",
    "        image_or_video = content[0]\n",
    "\n",
    "        # Safe handling for text prompt\n",
    "        if isinstance(content[1], dict) and 'text' in content[1]:\n",
    "            text_prompt = content[1]['text']\n",
    "        elif isinstance(content[1], list) and len(content[1]) > 0 and isinstance(content[1][0], dict) and 'text' in content[1][0]:\n",
    "            text_prompt = content[1][0]['text']\n",
    "        else:\n",
    "            raise ValueError(f\"Invalid format at index {idx}: content[1] = {content[1]}\")\n",
    "\n",
    "        # Load and process image or video\n",
    "        if image_or_video['type'] == 'image':\n",
    "            image_path = image_or_video['image']\n",
    "            image = Image.open(image_path).convert(\"RGB\")\n",
    "            image = image.resize(self.image_size)\n",
    "            image_input = self.processor(images=image, return_tensors=\"pt\").pixel_values\n",
    "        elif image_or_video['type'] == 'video':\n",
    "            video_path = image_or_video['image']\n",
    "            video_input = self.processor(video=video_path, return_tensors=\"pt\").pixel_values\n",
    "            image_input = video_input\n",
    "        else:\n",
    "            raise ValueError(f\"Unsupported media type at index {idx}: {image_or_video['type']}\")\n",
    "\n",
    "        # Assistant message is the target output text\n",
    "        assistant_message = messages[1]\n",
    "        assistant_content = assistant_message['content']\n",
    "        text_description = assistant_content\n",
    "\n",
    "    # Tokenize the input\n",
    "        inputs = self.processor(\n",
    "            text=[text_prompt],\n",
    "            images=image_input,\n",
    "            padding=True,\n",
    "            return_tensors=\"pt\"\n",
    "        )\n",
    "\n",
    "        # Tokenize the output/label\n",
    "        labels = self.processor.batch_encode_plus(\n",
    "            [text_description],\n",
    "            return_tensors=\"pt\",\n",
    "            padding=True\n",
    "        ).input_ids\n",
    "\n",
    "        # Move to GPU if available\n",
    "        inputs = {k: v.squeeze().to(\"cuda\") for k, v in inputs.items()}\n",
    "        labels = labels.squeeze().to(\"cuda\")\n",
    "\n",
    "        return {\n",
    "            'input_ids': inputs['input_ids'],\n",
    "            'attention_mask': inputs['attention_mask'],\n",
    "            'labels': labels\n",
    "        }\n",
    "\n",
    "\n",
    "# Example Usage:\n",
    "# Initialize the processor and dataset\n",
    "model_name = \"Qwen/Qwen2-VL-2B-Instruct\"\n",
    "processor = AutoProcessor.from_pretrained(model_name)\n",
    "train_dataset = Qwen2VLDataset(data_file=\"train_dataset.json\", processor=processor)\n",
    "\n",
    "# Check the first sample in the dataset\n",
    "sample = train_dataset\n",
    "print(*sample)"
   ]
  },
  {
   "cell_type": "code",
   "execution_count": null,
   "id": "f2fc2340-9b78-4eda-91e4-2b0a96b9c5cd",
   "metadata": {},
   "outputs": [],
   "source": [
    "!pip uninstall transformers -y\n",
    "!pip install git+https://github.com/huggingface/transformers.git\n"
   ]
  },
  {
   "cell_type": "code",
   "execution_count": null,
   "id": "ba29b48c-200b-4cd6-b48d-90ecc241f986",
   "metadata": {},
   "outputs": [],
   "source": [
    "messages"
   ]
  },
  {
   "cell_type": "code",
   "execution_count": null,
   "id": "6b604151-af0e-4c49-816e-fd576a0f0dc4",
   "metadata": {
    "scrolled": true
   },
   "outputs": [],
   "source": [
    "text = processor.apply_chat_template(\n",
    "    messages, tokenize=False, add_generation_prompt=True\n",
    ")\n",
    "image_inputs, video_inputs = process_vision_info(messages)\n",
    "inputs = processor(\n",
    "    text=[text],\n",
    "    images=image_inputs,\n",
    "    videos=video_inputs,\n",
    "    padding=True,\n",
    "    return_tensors=\"pt\",\n",
    ")\n",
    "inputs = inputs.to(\"cuda\")\n",
    "generated_ids = model.generate(**inputs, max_new_tokens=512)\n",
    "generated_ids_trimmed = [\n",
    "    out_ids[len(in_ids) :] for in_ids, out_ids in zip(inputs.input_ids, generated_ids)\n",
    "]\n",
    "output_text = processor.batch_decode(\n",
    "    generated_ids_trimmed, skip_special_tokens=True, clean_up_tokenization_spaces=False\n",
    ")\n",
    "print(\"\".join(output_text))"
   ]
  },
  {
   "cell_type": "code",
   "execution_count": null,
   "id": "519927e5-8498-4330-9960-d823fad41e3f",
   "metadata": {},
   "outputs": [],
   "source": [
    "print(\"\".join(output_text))"
   ]
  },
  {
   "cell_type": "code",
   "execution_count": null,
   "id": "6a928b6a-900f-4f0b-8900-1b45ffb595d1",
   "metadata": {},
   "outputs": [],
   "source": [
    "torch.cuda.empty_cache()"
   ]
  },
  {
   "cell_type": "code",
   "execution_count": null,
   "id": "3deb7b79-7d75-425f-b95f-ce810b457bea",
   "metadata": {},
   "outputs": [],
   "source": []
  }
 ],
 "metadata": {
  "kernelspec": {
   "display_name": "Python 3 (ipykernel)",
   "language": "python",
   "name": "python3"
  },
  "language_info": {
   "codemirror_mode": {
    "name": "ipython",
    "version": 3
   },
   "file_extension": ".py",
   "mimetype": "text/x-python",
   "name": "python",
   "nbconvert_exporter": "python",
   "pygments_lexer": "ipython3",
   "version": "3.11.11"
  }
 },
 "nbformat": 4,
 "nbformat_minor": 5
}
