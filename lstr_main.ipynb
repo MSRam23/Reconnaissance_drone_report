{
 "cells": [
  {
   "cell_type": "code",
   "execution_count": 9,
   "id": "1c561100-dc20-4951-8e74-f60dafe02462",
   "metadata": {},
   "outputs": [
    {
     "name": "stderr",
     "output_type": "stream",
     "text": [
      "Loading checkpoint shards: 100%|█████████████████████████████████████████████████████████| 2/2 [00:08<00:00,  4.39s/it]\n"
     ]
    }
   ],
   "source": [
    "from transformers import Qwen2VLForConditionalGeneration, AutoTokenizer, AutoProcessor\n",
    "from qwen_vl_utils import process_vision_info\n",
    "import torch\n",
    "torch.cuda.empty_cache()\n",
    "model_name = \"Qwen/Qwen2-VL-2B-Instruct\"\n",
    "model = Qwen2VLForConditionalGeneration.from_pretrained(\n",
    "    model_name,\n",
    "    torch_dtype=torch.bfloat16, \n",
    "    attn_implementation=\"eager\",  \n",
    "    device_map={\"\": \"cuda\"}\n",
    ")\n",
    "processor = AutoProcessor.from_pretrained(model_name,use_fast=True)"
   ]
  },
  {
   "cell_type": "code",
   "execution_count": 10,
   "id": "f2fc2340-9b78-4eda-91e4-2b0a96b9c5cd",
   "metadata": {},
   "outputs": [],
   "source": [
    "messages = [\n",
    "    {\n",
    "        \"role\": \"user\",\n",
    "        \"content\": [\n",
    "            {\n",
    "                \"type\": \"video\",\n",
    "                \"image\": \"C:/AI/Github/Reconnaissance_drone_report/Data/Images/earthquake/download1.jpg\",\n",
    "                \"max_pixels\": 360 * 420,\n",
    "                \"fps\": 1.0,\n",
    "            },\n",
    "            {\"type\": \"text\", \"text\": \"Consider yourself as a airforce pilot who is operating a drone at this moment, explain this event brief.\"},\n",
    "        ],\n",
    "    }\n",
    "]"
   ]
  },
  {
   "cell_type": "code",
   "execution_count": 11,
   "id": "ba29b48c-200b-4cd6-b48d-90ecc241f986",
   "metadata": {},
   "outputs": [
    {
     "data": {
      "text/plain": [
       "[{'role': 'user',\n",
       "  'content': [{'type': 'video',\n",
       "    'image': 'C:/AI/Github/Reconnaissance_drone_report/Data/Images/earthquake/download1.jpg',\n",
       "    'max_pixels': 151200,\n",
       "    'fps': 1.0},\n",
       "   {'type': 'text',\n",
       "    'text': 'Consider yourself as a airforce pilot who is operating a drone at this moment, explain this event brief.'}]}]"
      ]
     },
     "execution_count": 11,
     "metadata": {},
     "output_type": "execute_result"
    }
   ],
   "source": [
    "messages"
   ]
  },
  {
   "cell_type": "code",
   "execution_count": null,
   "id": "6b604151-af0e-4c49-816e-fd576a0f0dc4",
   "metadata": {
    "scrolled": true
   },
   "outputs": [],
   "source": [
    "import time\n",
    "st=time.time()\n",
    "text = processor.apply_chat_template(\n",
    "    messages, tokenize=False, add_generation_prompt=True\n",
    ")\n",
    "image_inputs, video_inputs = process_vision_info(messages)\n",
    "inputs = processor(\n",
    "    text=[text],\n",
    "    images=image_inputs,\n",
    "    videos=video_inputs,\n",
    "    padding=True,\n",
    "    return_tensors=\"pt\",\n",
    ")\n",
    "inputs = inputs.to(\"cuda\")\n",
    "generated_ids = model.generate(**inputs, max_new_tokens=512)\n",
    "generated_ids_trimmed = [\n",
    "    out_ids[len(in_ids) :] for in_ids, out_ids in zip(inputs.input_ids, generated_ids)\n",
    "]\n",
    "output_text = processor.batch_decode(\n",
    "    generated_ids_trimmed, skip_special_tokens=True, clean_up_tokenization_spaces=False\n",
    ")\n",
    "end=time.time()\n",
    "print(\"\".join(output_text))\n",
    "print(\"Time took to generate: \",end-st)"
   ]
  },
  {
   "cell_type": "code",
   "execution_count": null,
   "id": "519927e5-8498-4330-9960-d823fad41e3f",
   "metadata": {},
   "outputs": [],
   "source": [
    "print(\"\".join(output_text))"
   ]
  },
  {
   "cell_type": "code",
   "execution_count": 13,
   "id": "6a928b6a-900f-4f0b-8900-1b45ffb595d1",
   "metadata": {},
   "outputs": [],
   "source": [
    "torch.cuda.empty_cache()\n",
    "torch.cuda.reset_peak_memory_stats()"
   ]
  },
  {
   "cell_type": "code",
   "execution_count": 6,
   "id": "3deb7b79-7d75-425f-b95f-ce810b457bea",
   "metadata": {},
   "outputs": [
    {
     "name": "stdout",
     "output_type": "stream",
     "text": [
      "Requirement already satisfied: bitsandbytes in c:\\users\\kmano\\miniconda3\\envs\\lstr\\lib\\site-packages (0.45.5)\n",
      "Requirement already satisfied: torch<3,>=2.0 in c:\\users\\kmano\\miniconda3\\envs\\lstr\\lib\\site-packages (from bitsandbytes) (2.6.0+cu126)\n",
      "Requirement already satisfied: numpy>=1.17 in c:\\users\\kmano\\miniconda3\\envs\\lstr\\lib\\site-packages (from bitsandbytes) (1.23.0)\n",
      "Requirement already satisfied: filelock in c:\\users\\kmano\\miniconda3\\envs\\lstr\\lib\\site-packages (from torch<3,>=2.0->bitsandbytes) (3.13.1)\n",
      "Requirement already satisfied: typing-extensions>=4.10.0 in c:\\users\\kmano\\miniconda3\\envs\\lstr\\lib\\site-packages (from torch<3,>=2.0->bitsandbytes) (4.12.2)\n",
      "Requirement already satisfied: networkx in c:\\users\\kmano\\miniconda3\\envs\\lstr\\lib\\site-packages (from torch<3,>=2.0->bitsandbytes) (3.3)\n",
      "Requirement already satisfied: jinja2 in c:\\users\\kmano\\miniconda3\\envs\\lstr\\lib\\site-packages (from torch<3,>=2.0->bitsandbytes) (3.1.4)\n",
      "Requirement already satisfied: fsspec in c:\\users\\kmano\\miniconda3\\envs\\lstr\\lib\\site-packages (from torch<3,>=2.0->bitsandbytes) (2024.6.1)\n",
      "Requirement already satisfied: sympy==1.13.1 in c:\\users\\kmano\\miniconda3\\envs\\lstr\\lib\\site-packages (from torch<3,>=2.0->bitsandbytes) (1.13.1)\n",
      "Requirement already satisfied: mpmath<1.4,>=1.1.0 in c:\\users\\kmano\\miniconda3\\envs\\lstr\\lib\\site-packages (from sympy==1.13.1->torch<3,>=2.0->bitsandbytes) (1.3.0)\n",
      "Requirement already satisfied: MarkupSafe>=2.0 in c:\\users\\kmano\\miniconda3\\envs\\lstr\\lib\\site-packages (from jinja2->torch<3,>=2.0->bitsandbytes) (2.1.5)\n"
     ]
    }
   ],
   "source": [
    "!pip install -U bitsandbytes"
   ]
  },
  {
   "cell_type": "code",
   "execution_count": 8,
   "id": "4aaa2a2e-1077-4d71-8263-610125fd7a66",
   "metadata": {},
   "outputs": [
    {
     "name": "stdout",
     "output_type": "stream",
     "text": [
      "Collecting opencv-python\n",
      "  Downloading opencv_python-4.11.0.86-cp37-abi3-win_amd64.whl.metadata (20 kB)\n",
      "Requirement already satisfied: pillow in c:\\users\\kmano\\miniconda3\\envs\\lstr\\lib\\site-packages (11.0.0)\n",
      "Requirement already satisfied: numpy>=1.21.2 in c:\\users\\kmano\\miniconda3\\envs\\lstr\\lib\\site-packages (from opencv-python) (1.23.0)\n",
      "Downloading opencv_python-4.11.0.86-cp37-abi3-win_amd64.whl (39.5 MB)\n",
      "   ---------------------------------------- 0.0/39.5 MB ? eta -:--:--\n",
      "   - -------------------------------------- 1.0/39.5 MB 12.7 MB/s eta 0:00:04\n",
      "   ------ --------------------------------- 6.0/39.5 MB 21.8 MB/s eta 0:00:02\n",
      "   ----------- ---------------------------- 11.8/39.5 MB 24.6 MB/s eta 0:00:02\n",
      "   ------------------- -------------------- 19.7/39.5 MB 28.2 MB/s eta 0:00:01\n",
      "   --------------------------- ------------ 27.3/39.5 MB 29.8 MB/s eta 0:00:01\n",
      "   ------------------------------------ --- 35.7/39.5 MB 31.9 MB/s eta 0:00:01\n",
      "   ---------------------------------------- 39.5/39.5 MB 31.4 MB/s eta 0:00:00\n",
      "Installing collected packages: opencv-python\n",
      "Successfully installed opencv-python-4.11.0.86\n"
     ]
    }
   ],
   "source": [
    "!pip install opencv-python pillow\n"
   ]
  },
  {
   "cell_type": "code",
   "execution_count": null,
   "id": "8b2b2efd-8ab2-4d67-9b9e-96a9cbc7e5e1",
   "metadata": {},
   "outputs": [],
   "source": []
  }
 ],
 "metadata": {
  "kernelspec": {
   "display_name": "Python 3 (ipykernel)",
   "language": "python",
   "name": "python3"
  },
  "language_info": {
   "codemirror_mode": {
    "name": "ipython",
    "version": 3
   },
   "file_extension": ".py",
   "mimetype": "text/x-python",
   "name": "python",
   "nbconvert_exporter": "python",
   "pygments_lexer": "ipython3",
   "version": "3.10.16"
  }
 },
 "nbformat": 4,
 "nbformat_minor": 5
}
