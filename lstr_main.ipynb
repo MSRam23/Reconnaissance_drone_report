{
 "cells": [
  {
   "cell_type": "code",
   "execution_count": 1,
   "id": "1c561100-dc20-4951-8e74-f60dafe02462",
   "metadata": {},
   "outputs": [
    {
     "name": "stderr",
     "output_type": "stream",
     "text": [
      "C:\\Users\\kmano\\miniconda3\\envs\\lstr\\lib\\site-packages\\tqdm\\auto.py:21: TqdmWarning: IProgress not found. Please update jupyter and ipywidgets. See https://ipywidgets.readthedocs.io/en/stable/user_install.html\n",
      "  from .autonotebook import tqdm as notebook_tqdm\n",
      "Loading checkpoint shards: 100%|█████████████████████████████████████████████████████████| 2/2 [00:06<00:00,  3.41s/it]\n"
     ]
    }
   ],
   "source": [
    "from transformers import Qwen2VLForConditionalGeneration, AutoTokenizer, AutoProcessor\n",
    "from qwen_vl_utils import process_vision_info\n",
    "import torch\n",
    "torch.cuda.empty_cache()\n",
    "model_name = \"Qwen/Qwen2-VL-2B-Instruct\"\n",
    "model = Qwen2VLForConditionalGeneration.from_pretrained(\n",
    "    model_name,\n",
    "    torch_dtype=torch.bfloat16, \n",
    "    attn_implementation=\"eager\",  \n",
    "    device_map={\"\": \"cuda\"}\n",
    ")\n",
    "processor = AutoProcessor.from_pretrained(model_name,use_fast=True)"
   ]
  },
  {
   "cell_type": "code",
   "execution_count": 2,
   "id": "f2fc2340-9b78-4eda-91e4-2b0a96b9c5cd",
   "metadata": {},
   "outputs": [],
   "source": [
    "messages = [\n",
    "    {\n",
    "        \"role\": \"user\",\n",
    "        \"content\": [\n",
    "            {\n",
    "                \"type\": \"video\",\n",
    "                \"video\": \"C:/Users/kmano/Downloads/test.mp4\",\n",
    "                \"max_pixels\": 360 * 420,\n",
    "                \"fps\": 1.0,\n",
    "            },\n",
    "            {\"type\": \"text\", \"text\": \"explain this event in detailed manner.\"},\n",
    "        ],\n",
    "    }\n",
    "]"
   ]
  },
  {
   "cell_type": "code",
   "execution_count": 3,
   "id": "ba29b48c-200b-4cd6-b48d-90ecc241f986",
   "metadata": {},
   "outputs": [
    {
     "data": {
      "text/plain": [
       "[{'role': 'user',\n",
       "  'content': [{'type': 'video',\n",
       "    'video': 'C:/Users/kmano/Downloads/test.mp4',\n",
       "    'max_pixels': 151200,\n",
       "    'fps': 1.0},\n",
       "   {'type': 'text', 'text': 'explain this event in detailed manner.'}]}]"
      ]
     },
     "execution_count": 3,
     "metadata": {},
     "output_type": "execute_result"
    }
   ],
   "source": [
    "messages"
   ]
  },
  {
   "cell_type": "code",
   "execution_count": 4,
   "id": "6b604151-af0e-4c49-816e-fd576a0f0dc4",
   "metadata": {
    "scrolled": true
   },
   "outputs": [
    {
     "name": "stderr",
     "output_type": "stream",
     "text": [
      "qwen-vl-utils using torchvision to read video.\n"
     ]
    },
    {
     "name": "stdout",
     "output_type": "stream",
     "text": [
      "The video depicts a military vehicle being destroyed by an explosion. The scene is set in a desolate, war-torn landscape with a dirt road and scattered debris. The vehicle is positioned on the road, and an explosion occurs, causing a large fireball to erupt from the vehicle's rear end. The explosion creates a significant amount of smoke and debris, which is visible in the video. The explosion appears to be a result of a military vehicle being targeted by an enemy, likely during a battle or conflict. The video provides a dramatic and intense visual representation of the destruction caused by military conflict.\n",
      "Time took to generate:  25.13722014427185\n"
     ]
    }
   ],
   "source": [
    "import time\n",
    "st=time.time()\n",
    "text = processor.apply_chat_template(\n",
    "    messages, tokenize=False, add_generation_prompt=True\n",
    ")\n",
    "image_inputs, video_inputs = process_vision_info(messages)\n",
    "inputs = processor(\n",
    "    text=[text],\n",
    "    images=image_inputs,\n",
    "    videos=video_inputs,\n",
    "    padding=True,\n",
    "    return_tensors=\"pt\",\n",
    ")\n",
    "inputs = inputs.to(\"cuda\")\n",
    "generated_ids = model.generate(**inputs, max_new_tokens=512)\n",
    "generated_ids_trimmed = [\n",
    "    out_ids[len(in_ids) :] for in_ids, out_ids in zip(inputs.input_ids, generated_ids)\n",
    "]\n",
    "output_text = processor.batch_decode(\n",
    "    generated_ids_trimmed, skip_special_tokens=True, clean_up_tokenization_spaces=False\n",
    ")\n",
    "end=time.time()\n",
    "print(\"\".join(output_text))\n",
    "print(\"Time took to generate: \",end-st)"
   ]
  },
  {
   "cell_type": "code",
   "execution_count": null,
   "id": "519927e5-8498-4330-9960-d823fad41e3f",
   "metadata": {},
   "outputs": [],
   "source": [
    "print(\"\".join(output_text))"
   ]
  },
  {
   "cell_type": "code",
   "execution_count": 5,
   "id": "6a928b6a-900f-4f0b-8900-1b45ffb595d1",
   "metadata": {},
   "outputs": [],
   "source": [
    "torch.cuda.empty_cache()\n",
    "torch.cuda.reset_peak_memory_stats()"
   ]
  },
  {
   "cell_type": "code",
   "execution_count": null,
   "id": "3deb7b79-7d75-425f-b95f-ce810b457bea",
   "metadata": {},
   "outputs": [],
   "source": [
    "!pip install -U bitsandbytes"
   ]
  },
  {
   "cell_type": "code",
   "execution_count": null,
   "id": "4aaa2a2e-1077-4d71-8263-610125fd7a66",
   "metadata": {},
   "outputs": [],
   "source": [
    "!pip install opencv-python pillow\n"
   ]
  },
  {
   "cell_type": "code",
   "execution_count": null,
   "id": "8b2b2efd-8ab2-4d67-9b9e-96a9cbc7e5e1",
   "metadata": {},
   "outputs": [],
   "source": []
  }
 ],
 "metadata": {
  "kernelspec": {
   "display_name": "Python 3 (ipykernel)",
   "language": "python",
   "name": "python3"
  },
  "language_info": {
   "codemirror_mode": {
    "name": "ipython",
    "version": 3
   },
   "file_extension": ".py",
   "mimetype": "text/x-python",
   "name": "python",
   "nbconvert_exporter": "python",
   "pygments_lexer": "ipython3",
   "version": "3.10.16"
  }
 },
 "nbformat": 4,
 "nbformat_minor": 5
}
