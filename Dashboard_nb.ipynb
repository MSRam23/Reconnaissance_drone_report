{
 "cells": [
  {
   "cell_type": "code",
   "execution_count": 5,
   "id": "f3c6cb5e-b080-41f1-bfab-a3933216d0be",
   "metadata": {
    "scrolled": true
   },
   "outputs": [
    {
     "ename": "SystemExit",
     "evalue": "0",
     "output_type": "error",
     "traceback": [
      "An exception has occurred, use %tb to see the full traceback.\n",
      "\u001b[1;31mSystemExit\u001b[0m\u001b[1;31m:\u001b[0m 0\n"
     ]
    },
    {
     "name": "stderr",
     "output_type": "stream",
     "text": [
      "C:\\Users\\kmano\\miniconda3\\envs\\lstr\\lib\\site-packages\\IPython\\core\\interactiveshell.py:3587: UserWarning: To exit: use 'exit', 'quit', or Ctrl-D.\n",
      "  warn(\"To exit: use 'exit', 'quit', or Ctrl-D.\", stacklevel=1)\n"
     ]
    }
   ],
   "source": [
    "import sys\n",
    "from PyQt5.QtWidgets import (\n",
    "    QApplication, QWidget, QLabel, QPushButton, QVBoxLayout,\n",
    "    QHBoxLayout, QFileDialog, QTextEdit, QGridLayout\n",
    ")\n",
    "from PyQt5.QtGui import QFont\n",
    "from PyQt5.QtCore import Qt\n",
    "\n",
    "class RefinedDroneDashboard(QWidget):\n",
    "    def __init__(self):\n",
    "        super().__init__()\n",
    "        self.setWindowTitle(\"Intelligent Drone Surveillance Dashboard\")\n",
    "        self.setGeometry(100, 100, 1000, 600)\n",
    "        self.setStyleSheet(\"background-color: #111827; color: white;\")\n",
    "        self.setup_ui()\n",
    "\n",
    "    def setup_ui(self):\n",
    "        main_layout = QHBoxLayout()\n",
    "\n",
    "        # Left Panel\n",
    "        left_layout = QVBoxLayout()\n",
    "        title_label = QLabel(\"🛡️ Intelligent Drone Surveillance\")\n",
    "        title_label.setFont(QFont(\"Arial\", 16, QFont.Bold))\n",
    "\n",
    "        self.upload_label = QLabel(\"No file selected\")\n",
    "        self.upload_button = QPushButton(\"Browse...\")\n",
    "        self.upload_button.clicked.connect(self.browse_file)\n",
    "        self.upload_button.setStyleSheet(\"background-color: #1f2937; color: white; padding: 8px;\")\n",
    "\n",
    "        upload_box = QVBoxLayout()\n",
    "        upload_box.addWidget(self.upload_label)\n",
    "        upload_box.addWidget(self.upload_button)\n",
    "\n",
    "        upload_frame = QWidget()\n",
    "        upload_frame.setLayout(upload_box)\n",
    "        upload_frame.setStyleSheet(\"border: 1px solid #374151; padding: 15px; border-radius: 10px;\")\n",
    "\n",
    "        summary_label = QLabel(\"📝 Generated Summary\")\n",
    "        self.summary_text = QTextEdit()\n",
    "        self.summary_text.setPlaceholderText(\"Lorem ipsum dolor sit amet...\")\n",
    "        self.summary_text.setStyleSheet(\"background-color: #1f2937;\")\n",
    "\n",
    "        report_label = QLabel(\"📄 Detailed Report\")\n",
    "        self.report_text = QTextEdit()\n",
    "        self.report_text.setPlaceholderText(\"Lorem ipsum dolor sit amet...\")\n",
    "        self.report_text.setStyleSheet(\"background-color: #1f2937;\")\n",
    "\n",
    "        download_btn = QPushButton(\"Download PDF\")\n",
    "        download_btn.setStyleSheet(\"background-color: #3b82f6; color: white; padding: 10px;\")\n",
    "\n",
    "        left_layout.addWidget(title_label)\n",
    "        left_layout.addWidget(upload_frame)\n",
    "        left_layout.addSpacing(20)\n",
    "        left_layout.addWidget(summary_label)\n",
    "        left_layout.addWidget(self.summary_text)\n",
    "        left_layout.addWidget(report_label)\n",
    "        left_layout.addWidget(self.report_text)\n",
    "        left_layout.addWidget(download_btn)\n",
    "\n",
    "        # Right Panel\n",
    "        right_layout = QVBoxLayout()\n",
    "        dashboard_title = QLabel(\"📊 Dashboard\")\n",
    "        dashboard_title.setFont(QFont(\"Arial\", 16, QFont.Bold))\n",
    "\n",
    "        grid = QGridLayout()\n",
    "        grid.setSpacing(20)\n",
    "\n",
    "        metrics = [\n",
    "            (\"🛸\", \"Hours Flown\", \"12.3\"),\n",
    "            (\"🛢️\", \"Fuel Capacity\", \"100.0\"),\n",
    "            (\"⛽\", \"Remaining Fuel\", \"65.7\"),\n",
    "            (\"🗺️\", \"Explored Area\", \"45.8\"),\n",
    "            (\"📸\", \"Captured Images\", \"234\"),\n",
    "        ]\n",
    "\n",
    "        for i, (icon, label, value) in enumerate(metrics):\n",
    "            icon_label = QLabel(icon)\n",
    "            icon_label.setFont(QFont(\"Arial\", 36))  # Enlarged icons\n",
    "\n",
    "            metric_label = QLabel(label)\n",
    "            metric_label.setFont(QFont(\"Arial\", 14, QFont.Bold))  # Bold label\n",
    "\n",
    "            value_label = QLabel(value)\n",
    "            value_label.setFont(QFont(\"Arial\", 20, QFont.Bold))\n",
    "            value_label.setStyleSheet(\"color: #60a5fa;\")\n",
    "\n",
    "            row_layout = QVBoxLayout()\n",
    "            row_layout.setAlignment(Qt.AlignCenter)\n",
    "            row_layout.addWidget(icon_label)\n",
    "            row_layout.addWidget(metric_label)\n",
    "            row_layout.addWidget(value_label)\n",
    "\n",
    "            cell = QWidget()\n",
    "            cell.setLayout(row_layout)\n",
    "            cell.setStyleSheet(\"background-color: #1f2937; padding: 20px; border-radius: 10px;\")\n",
    "            grid.addWidget(cell, i // 2, i % 2)\n",
    "\n",
    "        dashboard_widget = QWidget()\n",
    "        dashboard_widget.setLayout(grid)\n",
    "\n",
    "        right_layout.addWidget(dashboard_title)\n",
    "        right_layout.addWidget(dashboard_widget)\n",
    "\n",
    "        # Final Layout Merge\n",
    "        main_layout.addLayout(left_layout, 2)\n",
    "        main_layout.addLayout(right_layout, 2)\n",
    "\n",
    "        self.setLayout(main_layout)\n",
    "\n",
    "    def browse_file(self):\n",
    "        file_name, _ = QFileDialog.getOpenFileName(self, \"Select File\")\n",
    "        if file_name:\n",
    "            self.upload_label.setText(file_name.split(\"/\")[-1])\n",
    "\n",
    "if __name__ == \"__main__\":\n",
    "    app = QApplication(sys.argv)\n",
    "    dashboard = RefinedDroneDashboard()\n",
    "    dashboard.show()\n",
    "    sys.exit(app.exec_())\n"
   ]
  },
  {
   "cell_type": "code",
   "execution_count": 2,
   "id": "f993085c-f480-44ad-84ac-628a67863266",
   "metadata": {},
   "outputs": [
    {
     "name": "stdout",
     "output_type": "stream",
     "text": [
      "[{'res': 23, 'fss': 56}]\n"
     ]
    }
   ],
   "source": []
  },
  {
   "cell_type": "code",
   "execution_count": 1,
   "id": "75cced14-f5a2-44c9-b6d1-4eca16636894",
   "metadata": {},
   "outputs": [],
   "source": []
  },
  {
   "cell_type": "code",
   "execution_count": null,
   "id": "8b391146-1688-40d7-886a-fc483b8411bc",
   "metadata": {},
   "outputs": [],
   "source": []
  },
  {
   "cell_type": "code",
   "execution_count": null,
   "id": "6e1ba83d-1e4b-475a-b98e-224a1a4f338c",
   "metadata": {},
   "outputs": [],
   "source": []
  },
  {
   "cell_type": "code",
   "execution_count": 4,
   "id": "aab0a496-667b-4a8e-97ca-502cfeb2192c",
   "metadata": {},
   "outputs": [
    {
     "name": "stdout",
     "output_type": "stream",
     "text": [
      "Collecting pyqt5\n",
      "  Downloading PyQt5-5.15.11-cp38-abi3-win_amd64.whl.metadata (2.1 kB)\n",
      "Collecting PyQt5-sip<13,>=12.15 (from pyqt5)\n",
      "  Downloading PyQt5_sip-12.17.0-cp310-cp310-win_amd64.whl.metadata (492 bytes)\n",
      "Collecting PyQt5-Qt5<5.16.0,>=5.15.2 (from pyqt5)\n",
      "  Downloading PyQt5_Qt5-5.15.2-py3-none-win_amd64.whl.metadata (552 bytes)\n",
      "Downloading PyQt5-5.15.11-cp38-abi3-win_amd64.whl (6.9 MB)\n",
      "   ---------------------------------------- 0.0/6.9 MB ? eta -:--:--\n",
      "   ------ --------------------------------- 1.0/6.9 MB 12.5 MB/s eta 0:00:01\n",
      "   ---------------------------------------  6.8/6.9 MB 24.6 MB/s eta 0:00:01\n",
      "   ---------------------------------------- 6.9/6.9 MB 23.4 MB/s eta 0:00:00\n",
      "Downloading PyQt5_Qt5-5.15.2-py3-none-win_amd64.whl (50.1 MB)\n",
      "   ---------------------------------------- 0.0/50.1 MB ? eta -:--:--\n",
      "   ------ --------------------------------- 8.1/50.1 MB 41.8 MB/s eta 0:00:02\n",
      "   -------------- ------------------------- 17.8/50.1 MB 41.6 MB/s eta 0:00:01\n",
      "   ------------------- -------------------- 24.1/50.1 MB 38.2 MB/s eta 0:00:01\n",
      "   ----------------------- ---------------- 29.9/50.1 MB 35.1 MB/s eta 0:00:01\n",
      "   ------------------------------ --------- 38.0/50.1 MB 35.5 MB/s eta 0:00:01\n",
      "   ------------------------------------- -- 46.4/50.1 MB 36.0 MB/s eta 0:00:01\n",
      "   ---------------------------------------- 50.1/50.1 MB 34.3 MB/s eta 0:00:00\n",
      "Downloading PyQt5_sip-12.17.0-cp310-cp310-win_amd64.whl (59 kB)\n",
      "Installing collected packages: PyQt5-Qt5, PyQt5-sip, pyqt5\n",
      "Successfully installed PyQt5-Qt5-5.15.2 PyQt5-sip-12.17.0 pyqt5-5.15.11\n"
     ]
    }
   ],
   "source": [
    "!pip install pyqt5"
   ]
  },
  {
   "cell_type": "code",
   "execution_count": null,
   "id": "f2138044-d0c7-4489-949a-0b806afd1990",
   "metadata": {},
   "outputs": [],
   "source": []
  }
 ],
 "metadata": {
  "kernelspec": {
   "display_name": "Python 3 (ipykernel)",
   "language": "python",
   "name": "python3"
  },
  "language_info": {
   "codemirror_mode": {
    "name": "ipython",
    "version": 3
   },
   "file_extension": ".py",
   "mimetype": "text/x-python",
   "name": "python",
   "nbconvert_exporter": "python",
   "pygments_lexer": "ipython3",
   "version": "3.10.16"
  }
 },
 "nbformat": 4,
 "nbformat_minor": 5
}
